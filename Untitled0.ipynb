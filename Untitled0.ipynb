{
  "nbformat": 4,
  "nbformat_minor": 0,
  "metadata": {
    "colab": {
      "provenance": [],
      "authorship_tag": "ABX9TyORgDd+ZchXRAO6twGreiHS",
      "include_colab_link": true
    },
    "kernelspec": {
      "name": "python3",
      "display_name": "Python 3"
    },
    "language_info": {
      "name": "python"
    }
  },
  "cells": [
    {
      "cell_type": "markdown",
      "metadata": {
        "id": "view-in-github",
        "colab_type": "text"
      },
      "source": [
        "<a href=\"https://colab.research.google.com/github/kimdoo33669/python/blob/main/Untitled0.ipynb\" target=\"_parent\"><img src=\"https://colab.research.google.com/assets/colab-badge.svg\" alt=\"Open In Colab\"/></a>"
      ]
    },
    {
      "cell_type": "markdown",
      "source": [
        "#CH2. 서식출력 print()#"
      ],
      "metadata": {
        "id": "FWKR2A05kUvJ"
      }
    },
    {
      "cell_type": "code",
      "source": [
        "print(\"%d\" % 123)\n",
        "print(\"%5d\" % 123)\n",
        "print(\"%05d\" % 123)\n",
        "\n",
        "print(\"%f\" % 123.45)\n",
        "print(\"%7.1f\" % 123.45)\n",
        "print(\"%7.3f\" % 123.45)\n",
        "\n",
        "print(\"%c\" % \"1\")\n",
        "print(\"%s\" % \"가나다라\")\n",
        "print(\"%6s\" % \"가나다라\")\n",
        "print(\"%6s\" % \"abcd\")"
      ],
      "metadata": {
        "colab": {
          "base_uri": "https://localhost:8080/"
        },
        "id": "0bFqqNwKiir6",
        "outputId": "1dfc93d8-5361-410c-8932-9d21d6474678"
      },
      "execution_count": null,
      "outputs": [
        {
          "output_type": "stream",
          "name": "stdout",
          "text": [
            "123\n",
            "  123\n",
            "00123\n",
            "123.450000\n",
            "  123.5\n",
            "123.450\n",
            "1\n",
            "가나다라\n",
            "  가나다라\n",
            "  abcd\n"
          ]
        }
      ]
    },
    {
      "cell_type": "markdown",
      "source": [
        "#### 순서지정가능:format\n"
      ],
      "metadata": {
        "id": "bMYyeEHRkY-p"
      }
    },
    {
      "cell_type": "code",
      "source": [
        "print(\"{0:d} {1:5d} {2:05d}\".format(123,456,789))"
      ],
      "metadata": {
        "colab": {
          "base_uri": "https://localhost:8080/"
        },
        "id": "OL2tJHAzkerp",
        "outputId": "74584f39-9b84-4fa9-fc0b-40d346a77c5d"
      },
      "execution_count": null,
      "outputs": [
        {
          "output_type": "stream",
          "name": "stdout",
          "text": [
            "123   456 00789\n"
          ]
        }
      ]
    },
    {
      "cell_type": "markdown",
      "source": [
        "#### 서식출력\n"
      ],
      "metadata": {
        "id": "fF3Nw1YUlE0p"
      }
    },
    {
      "cell_type": "code",
      "source": [
        "print(\"\\n줄 바꿈 명령 \\n연습입니다.\")"
      ],
      "metadata": {
        "colab": {
          "base_uri": "https://localhost:8080/"
        },
        "id": "xxDQ24oolJcZ",
        "outputId": "03ad969a-5e99-4cf4-ff66-90b5eec1b785"
      },
      "execution_count": null,
      "outputs": [
        {
          "output_type": "stream",
          "name": "stdout",
          "text": [
            "\n",
            "줄 바꿈 명령 \n",
            "연습입니다.\n"
          ]
        }
      ]
    },
    {
      "cell_type": "code",
      "source": [
        "print( \"\\t텝키 명령 \\t연습입니다\")"
      ],
      "metadata": {
        "colab": {
          "base_uri": "https://localhost:8080/"
        },
        "id": "wZiKP79AlVcx",
        "outputId": "434b7c34-83ab-4355-d738-82c5c8d09a90"
      },
      "execution_count": null,
      "outputs": [
        {
          "output_type": "stream",
          "name": "stdout",
          "text": [
            "\t텝키 명령 \t연습입니다\n"
          ]
        }
      ]
    },
    {
      "cell_type": "code",
      "source": [
        "print(\"따옴표 글자가 \\\"강조\\\"되는 효과1\")\n",
        "print(\"따옴표 글자가 \\'강조\\'되는 효과2\")\n",
        "print(\"역슬래시 3개를 출력하려면 \\\\\\\\\\\\ 6개\")\n",
        "print(r\"\\n \\t \\\" \\\\ \\' @를 그대로 출력\")"
      ],
      "metadata": {
        "colab": {
          "base_uri": "https://localhost:8080/"
        },
        "id": "3M_CofHxlfoZ",
        "outputId": "e7fe54aa-7f73-49a9-cadd-1ef95a03d77c"
      },
      "execution_count": null,
      "outputs": [
        {
          "output_type": "stream",
          "name": "stdout",
          "text": [
            "따옴표 글자가 \"강조\"되는 효과1\n",
            "따옴표 글자가 '강조'되는 효과2\n",
            "역슬래시 3개를 출력하려면 \\\\\\ 6개\n",
            "\\n \\t \\\" \\\\ \\' @를 그대로 출력\n"
          ]
        }
      ]
    },
    {
      "cell_type": "markdown",
      "source": [
        "#### 관계 연산자"
      ],
      "metadata": {
        "id": "g8koJZjsuqv6"
      }
    },
    {
      "cell_type": "code",
      "source": [
        "a,b= 10,20\n",
        "print(a==b, a!=b,a>=b, a<=b,a>b, a<b)"
      ],
      "metadata": {
        "colab": {
          "base_uri": "https://localhost:8080/"
        },
        "id": "JWWR-mQputcR",
        "outputId": "1b757c48-7a6b-4ee0-f9f8-37c6a114b208"
      },
      "execution_count": null,
      "outputs": [
        {
          "output_type": "stream",
          "name": "stdout",
          "text": [
            "False True False True False True\n"
          ]
        }
      ]
    },
    {
      "cell_type": "markdown",
      "source": [
        "#### 논리 연산자 and,or,not"
      ],
      "metadata": {
        "id": "fet09xQevDk5"
      }
    },
    {
      "cell_type": "code",
      "source": [
        "a=95\n",
        "print((a>100) and (a<200)) #100보다 크고 200보다작다, 100<a<200, 거짓\n",
        "print((a<100) or (a>200))# a<100, a>200 둘중에 하나\n",
        "print(not(a==200)) #a<=99, a>=101"
      ],
      "metadata": {
        "colab": {
          "base_uri": "https://localhost:8080/"
        },
        "id": "NblF-tDuvGkA",
        "outputId": "1ac5e8e4-6975-4aea-e88b-1fee6e0844a0"
      },
      "execution_count": null,
      "outputs": [
        {
          "output_type": "stream",
          "name": "stdout",
          "text": [
            "False\n",
            "True\n",
            "True\n"
          ]
        }
      ]
    },
    {
      "cell_type": "code",
      "source": [
        "if(1):\n",
        "  print(\"참이면 실행되어 보임\") # if 옆에 1이상이면 글자가 보임\n",
        "\n",
        "if(0):\n",
        "  print(\"거짓이면 안보임\")"
      ],
      "metadata": {
        "colab": {
          "base_uri": "https://localhost:8080/"
        },
        "id": "4-aAngRmvV85",
        "outputId": "fafb2eb5-f936-4625-e090-919759ba4a28"
      },
      "execution_count": null,
      "outputs": [
        {
          "output_type": "stream",
          "name": "stdout",
          "text": [
            "참이면 실행되어 보임\n"
          ]
        }
      ]
    },
    {
      "cell_type": "markdown",
      "source": [
        "#### 퀴즈2 // 몫 % 나머지 int(input(\"입력:\") 지폐 금액입력후 동전으로 교환시(500원,100원,50원,10원)\n",
        "money c500 c100 c50 c10  \n",
        "받은돈: ?원  \n",
        "500원: n개  \n",
        "100원: n개  \n",
        "50원: n개  \n",
        "10원: n개  \n",
        "나머지:?원  "
      ],
      "metadata": {
        "id": "_uNISutsxGGC"
      }
    },
    {
      "cell_type": "code",
      "source": [
        "money=(int(input(\"지폐 금액: \")))\n",
        "a=money\n",
        "print(type(a))\n",
        "print(\"500원은\",a/500,\"개\")\n",
        "print(\"100원은\",a/100,\"개\")\n",
        "print(\"50원은\",a/50,\"개\")\n",
        "print(\"10원은\",a/10,\"개\")\n",
        "\n",
        "nul=(int(input(\"총 넣은 금액: \")))\n",
        "b=nul\n",
        "print(b/)"
      ],
      "metadata": {
        "colab": {
          "base_uri": "https://localhost:8080/"
        },
        "id": "zXVfAwR_yW_S",
        "outputId": "df7bf24f-f627-415e-e92a-900f40a929b9"
      },
      "execution_count": null,
      "outputs": [
        {
          "output_type": "stream",
          "name": "stdout",
          "text": [
            "지폐 금액: 156\n",
            "<class 'int'>\n",
            "500원은 0.312 개\n",
            "100원은 1.56 개\n",
            "50원은 3.12 개\n",
            "10원은 15.6 개\n",
            "총 넣은 금액: 85\n",
            "<class 'int'>\n"
          ]
        }
      ]
    },
    {
      "cell_type": "code",
      "source": [
        "money,c500,c100,c50,c10=0,0,0,0,0\n",
        "monry=int(input(\"동전으로 교환할돈은?: \"))\n",
        "print(\"입력받은돈은 %d원\" % money )\n",
        "c500 = money // 500 #몫\n",
        "money = c500\n",
        "c100 = money //100\n",
        "money %=100\n",
        "c50 = money //50\n",
        "money %=50\n",
        "c10 = money //10\n",
        "money %=10\n",
        "print(\"입력받은 돈은 : %d\" % temp)\n",
        "print(\"500원 동전 : %d\" % c500)\n",
        "print(\"100원 동전 : %d\" % c100)\n",
        "print(\"50원 동전 : %d\" % c50)\n",
        "print(\"10원 동전 : %d\" % c10)\n",
        "print(\"나머지 잔돈 : %d\" % money)"
      ],
      "metadata": {
        "colab": {
          "base_uri": "https://localhost:8080/",
          "height": 281
        },
        "id": "xwh0mKgI3lF7",
        "outputId": "3f6c491f-777e-4184-c0cc-520c5ba4fef4"
      },
      "execution_count": null,
      "outputs": [
        {
          "output_type": "stream",
          "name": "stdout",
          "text": [
            "동전으로 교환할돈은?: 165\n",
            "입력받은돈은 0원\n"
          ]
        },
        {
          "output_type": "error",
          "ename": "NameError",
          "evalue": "ignored",
          "traceback": [
            "\u001b[0;31m---------------------------------------------------------------------------\u001b[0m",
            "\u001b[0;31mNameError\u001b[0m                                 Traceback (most recent call last)",
            "\u001b[0;32m<ipython-input-78-1e269b2f27ab>\u001b[0m in \u001b[0;36m<module>\u001b[0;34m\u001b[0m\n\u001b[1;32m     10\u001b[0m \u001b[0mc10\u001b[0m \u001b[0;34m=\u001b[0m \u001b[0mmoney\u001b[0m \u001b[0;34m//\u001b[0m\u001b[0;36m10\u001b[0m\u001b[0;34m\u001b[0m\u001b[0;34m\u001b[0m\u001b[0m\n\u001b[1;32m     11\u001b[0m \u001b[0mmoney\u001b[0m \u001b[0;34m%=\u001b[0m\u001b[0;36m10\u001b[0m\u001b[0;34m\u001b[0m\u001b[0;34m\u001b[0m\u001b[0m\n\u001b[0;32m---> 12\u001b[0;31m \u001b[0mprint\u001b[0m\u001b[0;34m(\u001b[0m\u001b[0;34m\"입력받은 돈은 : %d\"\u001b[0m \u001b[0;34m%\u001b[0m \u001b[0mtemp\u001b[0m\u001b[0;34m)\u001b[0m\u001b[0;34m\u001b[0m\u001b[0;34m\u001b[0m\u001b[0m\n\u001b[0m\u001b[1;32m     13\u001b[0m \u001b[0mprint\u001b[0m\u001b[0;34m(\u001b[0m\u001b[0;34m\"500원 동전 : %d\"\u001b[0m \u001b[0;34m%\u001b[0m \u001b[0mc500\u001b[0m\u001b[0;34m)\u001b[0m\u001b[0;34m\u001b[0m\u001b[0;34m\u001b[0m\u001b[0m\n\u001b[1;32m     14\u001b[0m \u001b[0mprint\u001b[0m\u001b[0;34m(\u001b[0m\u001b[0;34m\"100원 동전 : %d\"\u001b[0m \u001b[0;34m%\u001b[0m \u001b[0mc100\u001b[0m\u001b[0;34m)\u001b[0m\u001b[0;34m\u001b[0m\u001b[0;34m\u001b[0m\u001b[0m\n",
            "\u001b[0;31mNameError\u001b[0m: name 'temp' is not defined"
          ]
        }
      ]
    },
    {
      "cell_type": "markdown",
      "source": [
        "### 조건문\n"
      ],
      "metadata": {
        "id": "HsLAshmu6k_5"
      }
    },
    {
      "cell_type": "code",
      "source": [
        "a=50\n",
        "if(a<100):\n",
        "print(\"참:100보다 작음\")\n",
        "\n",
        "  else:\n",
        "  print(\"거짓:조건보다 크면\")\n",
        "\n",
        "  print(\"프로그램 끝\")\n"
      ],
      "metadata": {
        "colab": {
          "base_uri": "https://localhost:8080/",
          "height": 136
        },
        "id": "kSMtEO3Q6nhy",
        "outputId": "77cb2dae-bc7d-4b6c-bc2b-8c46101590b0"
      },
      "execution_count": null,
      "outputs": [
        {
          "output_type": "error",
          "ename": "IndentationError",
          "evalue": "ignored",
          "traceback": [
            "\u001b[0;36m  File \u001b[0;32m\"<ipython-input-80-3a1d104807c8>\"\u001b[0;36m, line \u001b[0;32m3\u001b[0m\n\u001b[0;31m    print(\"참:100보다 작음\")\u001b[0m\n\u001b[0m    ^\u001b[0m\n\u001b[0;31mIndentationError\u001b[0m\u001b[0;31m:\u001b[0m expected an indented block\n"
          ]
        }
      ]
    },
    {
      "cell_type": "code",
      "source": [
        "# 홀짝구분\n",
        "\n",
        "a=int(input(\"숫자입력: \"))\n",
        "if(a%2)==():\n",
        "  print(\"짝수입니다\")\n",
        "else :\n",
        "    print(\"홀수입니다\")\n",
        "\n"
      ],
      "metadata": {
        "colab": {
          "base_uri": "https://localhost:8080/"
        },
        "id": "m2NAg2ih8QZK",
        "outputId": "0f474cf8-8249-459d-e201-22284d9c96d1"
      },
      "execution_count": null,
      "outputs": [
        {
          "output_type": "stream",
          "name": "stdout",
          "text": [
            "숫자입력: 9\n",
            "홀수입니다\n"
          ]
        }
      ]
    },
    {
      "cell_type": "code",
      "source": [
        "a=int(input(\"숫자입력: \"))\n",
        "if(a>50):\n",
        "  if(a<100):\n",
        "    print(\"50<a<100\")\n",
        "else:\n",
        "      print(\"a>100\")\n",
        "     else:\n",
        "if(a>25):\n",
        "          print(\"25<a<50\")\n",
        "else:\n",
        "            print(\"a<25\")"
      ],
      "metadata": {
        "colab": {
          "base_uri": "https://localhost:8080/",
          "height": 136
        },
        "id": "LSM0dyYh9vXC",
        "outputId": "a27ae2e1-0ae7-4d14-acdf-f607d113cd08"
      },
      "execution_count": null,
      "outputs": [
        {
          "output_type": "error",
          "ename": "SyntaxError",
          "evalue": "ignored",
          "traceback": [
            "\u001b[0;36m  File \u001b[0;32m\"<ipython-input-85-34bcbe1e3d0c>\"\u001b[0;36m, line \u001b[0;32m7\u001b[0m\n\u001b[0;31m    else:\u001b[0m\n\u001b[0m    ^\u001b[0m\n\u001b[0;31mSyntaxError\u001b[0m\u001b[0;31m:\u001b[0m invalid syntax\n"
          ]
        }
      ]
    },
    {
      "cell_type": "code",
      "source": [
        "fruit= ['사과', '망고', '샤인머스켓','바나나']\n",
        "fruit,append ('망고')\n",
        "if'망고' in fruit :\n",
        "  print(\"망고가있습니다\")\n",
        "  print(fruit)\n"
      ],
      "metadata": {
        "colab": {
          "base_uri": "https://localhost:8080/",
          "height": 245
        },
        "id": "Dpifp3oNAvKS",
        "outputId": "932c2631-70f4-4d59-d4d4-6cade9942631"
      },
      "execution_count": null,
      "outputs": [
        {
          "output_type": "error",
          "ename": "NameError",
          "evalue": "ignored",
          "traceback": [
            "\u001b[0;31m---------------------------------------------------------------------------\u001b[0m",
            "\u001b[0;31mNameError\u001b[0m                                 Traceback (most recent call last)",
            "\u001b[0;32m<ipython-input-88-4b3addc995aa>\u001b[0m in \u001b[0;36m<module>\u001b[0;34m\u001b[0m\n\u001b[1;32m      1\u001b[0m \u001b[0mfruit\u001b[0m\u001b[0;34m=\u001b[0m \u001b[0;34m[\u001b[0m\u001b[0;34m'사과'\u001b[0m\u001b[0;34m,\u001b[0m \u001b[0;34m'망고'\u001b[0m\u001b[0;34m,\u001b[0m \u001b[0;34m'샤인머스켓'\u001b[0m\u001b[0;34m,\u001b[0m\u001b[0;34m'바나나'\u001b[0m\u001b[0;34m]\u001b[0m\u001b[0;34m\u001b[0m\u001b[0;34m\u001b[0m\u001b[0m\n\u001b[0;32m----> 2\u001b[0;31m \u001b[0mfruit\u001b[0m\u001b[0;34m,\u001b[0m\u001b[0mappend\u001b[0m\u001b[0;34m(\u001b[0m\u001b[0;34m'망고'\u001b[0m\u001b[0;34m)\u001b[0m\u001b[0;34m\u001b[0m\u001b[0;34m\u001b[0m\u001b[0m\n\u001b[0m\u001b[1;32m      3\u001b[0m \u001b[0;32mif\u001b[0m\u001b[0;34m'망고'\u001b[0m \u001b[0;32min\u001b[0m \u001b[0mfruit\u001b[0m \u001b[0;34m:\u001b[0m\u001b[0;34m\u001b[0m\u001b[0;34m\u001b[0m\u001b[0m\n\u001b[1;32m      4\u001b[0m   \u001b[0mprint\u001b[0m\u001b[0;34m(\u001b[0m\u001b[0;34m\"망고가있습니다\"\u001b[0m\u001b[0;34m)\u001b[0m\u001b[0;34m\u001b[0m\u001b[0;34m\u001b[0m\u001b[0m\n\u001b[1;32m      5\u001b[0m   \u001b[0mprint\u001b[0m\u001b[0;34m(\u001b[0m\u001b[0mfruit\u001b[0m\u001b[0;34m)\u001b[0m\u001b[0;34m\u001b[0m\u001b[0;34m\u001b[0m\u001b[0m\n",
            "\u001b[0;31mNameError\u001b[0m: name 'append' is not defined"
          ]
        }
      ]
    },
    {
      "cell_type": "code",
      "source": [
        "for i in range(0,3,1): #시작값, 끝값+1, 증가값\n",
        " print(\"%d 안녕하세요\"% i)\n",
        "print(\"환영합니다^^\")"
      ],
      "metadata": {
        "colab": {
          "base_uri": "https://localhost:8080/"
        },
        "id": "ujeOIjmVBApy",
        "outputId": "5c77d8aa-f2fc-4283-8315-7c2fdf5f6e53"
      },
      "execution_count": null,
      "outputs": [
        {
          "output_type": "stream",
          "name": "stdout",
          "text": [
            "0 안녕하세요\n",
            "1 안녕하세요\n",
            "2 안녕하세요\n",
            "환영합니다^^\n"
          ]
        }
      ]
    },
    {
      "cell_type": "code",
      "source": [
        "import random\n",
        "number=[]\n",
        "for i in range(0,6):\n",
        "  num.append(random.randrange(1,46))\n",
        "  print(\"생성리스트\",num) "
      ],
      "metadata": {
        "colab": {
          "base_uri": "https://localhost:8080/",
          "height": 227
        },
        "id": "NIiTPDJxCdkK",
        "outputId": "00ab5392-fdb1-4647-9666-660006438f33"
      },
      "execution_count": null,
      "outputs": [
        {
          "output_type": "error",
          "ename": "NameError",
          "evalue": "ignored",
          "traceback": [
            "\u001b[0;31m---------------------------------------------------------------------------\u001b[0m",
            "\u001b[0;31mNameError\u001b[0m                                 Traceback (most recent call last)",
            "\u001b[0;32m<ipython-input-90-13aae38f8a45>\u001b[0m in \u001b[0;36m<module>\u001b[0;34m\u001b[0m\n\u001b[1;32m      2\u001b[0m \u001b[0mnumber\u001b[0m\u001b[0;34m=\u001b[0m\u001b[0;34m[\u001b[0m\u001b[0;34m]\u001b[0m\u001b[0;34m\u001b[0m\u001b[0;34m\u001b[0m\u001b[0m\n\u001b[1;32m      3\u001b[0m \u001b[0;32mfor\u001b[0m \u001b[0mi\u001b[0m \u001b[0;32min\u001b[0m \u001b[0mrange\u001b[0m\u001b[0;34m(\u001b[0m\u001b[0;36m0\u001b[0m\u001b[0;34m,\u001b[0m\u001b[0;36m6\u001b[0m\u001b[0;34m)\u001b[0m\u001b[0;34m:\u001b[0m\u001b[0;34m\u001b[0m\u001b[0;34m\u001b[0m\u001b[0m\n\u001b[0;32m----> 4\u001b[0;31m   \u001b[0mnum\u001b[0m\u001b[0;34m.\u001b[0m\u001b[0mappend\u001b[0m\u001b[0;34m(\u001b[0m\u001b[0mrandom\u001b[0m\u001b[0;34m.\u001b[0m\u001b[0mrandrange\u001b[0m\u001b[0;34m(\u001b[0m\u001b[0;36m1\u001b[0m\u001b[0;34m,\u001b[0m\u001b[0;36m46\u001b[0m\u001b[0;34m)\u001b[0m\u001b[0;34m)\u001b[0m\u001b[0;34m\u001b[0m\u001b[0;34m\u001b[0m\u001b[0m\n\u001b[0m\u001b[1;32m      5\u001b[0m   \u001b[0mprint\u001b[0m\u001b[0;34m(\u001b[0m\u001b[0;34m\"생성리스트\"\u001b[0m\u001b[0;34m,\u001b[0m\u001b[0mnum\u001b[0m\u001b[0;34m)\u001b[0m\u001b[0;34m\u001b[0m\u001b[0;34m\u001b[0m\u001b[0m\n",
            "\u001b[0;31mNameError\u001b[0m: name 'num' is not defined"
          ]
        }
      ]
    },
    {
      "cell_type": "code",
      "source": [
        "for i in range(1,9,1):\n",
        "  print(\"%d\" % i, end='\\t')\n",
        "  print(\"\\n\")\n",
        "  for j in range(1,9,1):\n",
        "   print(\"%d\" % j, end='\\t')\n"
      ],
      "metadata": {
        "colab": {
          "base_uri": "https://localhost:8080/"
        },
        "id": "bHO46slDD1Vq",
        "outputId": "13fc35a5-c248-4013-c141-59347af0bcac"
      },
      "execution_count": null,
      "outputs": [
        {
          "output_type": "stream",
          "name": "stdout",
          "text": [
            "1\t\n",
            "\n",
            "1\t2\t3\t4\t5\t6\t7\t8\t2\t\n",
            "\n",
            "1\t2\t3\t4\t5\t6\t7\t8\t3\t\n",
            "\n",
            "1\t2\t3\t4\t5\t6\t7\t8\t4\t\n",
            "\n",
            "1\t2\t3\t4\t5\t6\t7\t8\t5\t\n",
            "\n",
            "1\t2\t3\t4\t5\t6\t7\t8\t6\t\n",
            "\n",
            "1\t2\t3\t4\t5\t6\t7\t8\t7\t\n",
            "\n",
            "1\t2\t3\t4\t5\t6\t7\t8\t8\t\n",
            "\n",
            "1\t2\t3\t4\t5\t6\t7\t8\t"
          ]
        }
      ]
    },
    {
      "cell_type": "code",
      "source": [
        "sum=0\n",
        "for i in range(1,11,1):\n",
        " sum = sum+i\n",
        "print(\"1부터 10까지의 합: %d\" % sum)"
      ],
      "metadata": {
        "colab": {
          "base_uri": "https://localhost:8080/"
        },
        "id": "WCI2kmN9EfST",
        "outputId": "8bdcee1d-dd9c-45c1-fac6-d36ccc767c3b"
      },
      "execution_count": null,
      "outputs": [
        {
          "output_type": "stream",
          "name": "stdout",
          "text": [
            "1부터 10까지의 합: 55\n"
          ]
        }
      ]
    },
    {
      "cell_type": "code",
      "source": [
        "sum,num=0,0\n",
        "num = int(input(\"숫자입력: \"))\n",
        "for i in range(1,num+1,1):\n",
        " sum = sum+i\n",
        "print(\"1~n까지의 합: %d\" % sum)\n"
      ],
      "metadata": {
        "colab": {
          "base_uri": "https://localhost:8080/"
        },
        "id": "rYfiraKWFPuj",
        "outputId": "ea608d37-e7c9-4aab-af06-876892e35efb"
      },
      "execution_count": null,
      "outputs": [
        {
          "output_type": "stream",
          "name": "stdout",
          "text": [
            "숫자입력: 165\n",
            "1~n까지의 합: 13695\n"
          ]
        }
      ]
    },
    {
      "cell_type": "code",
      "source": [
        "i,j=2,2\n",
        "for i in range(1,10,1):\n",
        "  print(\"%d x %d = %2d\" % (j,i,i*j))\n"
      ],
      "metadata": {
        "colab": {
          "base_uri": "https://localhost:8080/"
        },
        "id": "ZhFfe-kFFb7D",
        "outputId": "995e3f16-6dee-4b34-f9c0-e8468a6c30b4"
      },
      "execution_count": null,
      "outputs": [
        {
          "output_type": "stream",
          "name": "stdout",
          "text": [
            "2 x 1 =  2\n",
            "2 x 2 =  4\n",
            "2 x 3 =  6\n",
            "2 x 4 =  8\n",
            "2 x 5 = 10\n",
            "2 x 6 = 12\n",
            "2 x 7 = 14\n",
            "2 x 8 = 16\n",
            "2 x 9 = 18\n"
          ]
        }
      ]
    },
    {
      "cell_type": "code",
      "source": [
        "i,j,k=0,0,0\n",
        "for i in range(2,10,1):\n",
        "  for j in range(1,10,1):\n",
        "    print(\"%d * %d = %2d\\n\" % (i,j,i*j))\n",
        "    print(\"\\n\")\n"
      ],
      "metadata": {
        "colab": {
          "base_uri": "https://localhost:8080/"
        },
        "id": "n1-LiNfpHAli",
        "outputId": "082c889e-970e-4e49-b242-75a95941d547"
      },
      "execution_count": null,
      "outputs": [
        {
          "output_type": "stream",
          "name": "stdout",
          "text": [
            "2 * 1 =  2\n",
            "\n",
            "\n",
            "\n",
            "2 * 2 =  4\n",
            "\n",
            "\n",
            "\n",
            "2 * 3 =  6\n",
            "\n",
            "\n",
            "\n",
            "2 * 4 =  8\n",
            "\n",
            "\n",
            "\n",
            "2 * 5 = 10\n",
            "\n",
            "\n",
            "\n",
            "2 * 6 = 12\n",
            "\n",
            "\n",
            "\n",
            "2 * 7 = 14\n",
            "\n",
            "\n",
            "\n",
            "2 * 8 = 16\n",
            "\n",
            "\n",
            "\n",
            "2 * 9 = 18\n",
            "\n",
            "\n",
            "\n",
            "3 * 1 =  3\n",
            "\n",
            "\n",
            "\n",
            "3 * 2 =  6\n",
            "\n",
            "\n",
            "\n",
            "3 * 3 =  9\n",
            "\n",
            "\n",
            "\n",
            "3 * 4 = 12\n",
            "\n",
            "\n",
            "\n",
            "3 * 5 = 15\n",
            "\n",
            "\n",
            "\n",
            "3 * 6 = 18\n",
            "\n",
            "\n",
            "\n",
            "3 * 7 = 21\n",
            "\n",
            "\n",
            "\n",
            "3 * 8 = 24\n",
            "\n",
            "\n",
            "\n",
            "3 * 9 = 27\n",
            "\n",
            "\n",
            "\n",
            "4 * 1 =  4\n",
            "\n",
            "\n",
            "\n",
            "4 * 2 =  8\n",
            "\n",
            "\n",
            "\n",
            "4 * 3 = 12\n",
            "\n",
            "\n",
            "\n",
            "4 * 4 = 16\n",
            "\n",
            "\n",
            "\n",
            "4 * 5 = 20\n",
            "\n",
            "\n",
            "\n",
            "4 * 6 = 24\n",
            "\n",
            "\n",
            "\n",
            "4 * 7 = 28\n",
            "\n",
            "\n",
            "\n",
            "4 * 8 = 32\n",
            "\n",
            "\n",
            "\n",
            "4 * 9 = 36\n",
            "\n",
            "\n",
            "\n",
            "5 * 1 =  5\n",
            "\n",
            "\n",
            "\n",
            "5 * 2 = 10\n",
            "\n",
            "\n",
            "\n",
            "5 * 3 = 15\n",
            "\n",
            "\n",
            "\n",
            "5 * 4 = 20\n",
            "\n",
            "\n",
            "\n",
            "5 * 5 = 25\n",
            "\n",
            "\n",
            "\n",
            "5 * 6 = 30\n",
            "\n",
            "\n",
            "\n",
            "5 * 7 = 35\n",
            "\n",
            "\n",
            "\n",
            "5 * 8 = 40\n",
            "\n",
            "\n",
            "\n",
            "5 * 9 = 45\n",
            "\n",
            "\n",
            "\n",
            "6 * 1 =  6\n",
            "\n",
            "\n",
            "\n",
            "6 * 2 = 12\n",
            "\n",
            "\n",
            "\n",
            "6 * 3 = 18\n",
            "\n",
            "\n",
            "\n",
            "6 * 4 = 24\n",
            "\n",
            "\n",
            "\n",
            "6 * 5 = 30\n",
            "\n",
            "\n",
            "\n",
            "6 * 6 = 36\n",
            "\n",
            "\n",
            "\n",
            "6 * 7 = 42\n",
            "\n",
            "\n",
            "\n",
            "6 * 8 = 48\n",
            "\n",
            "\n",
            "\n",
            "6 * 9 = 54\n",
            "\n",
            "\n",
            "\n",
            "7 * 1 =  7\n",
            "\n",
            "\n",
            "\n",
            "7 * 2 = 14\n",
            "\n",
            "\n",
            "\n",
            "7 * 3 = 21\n",
            "\n",
            "\n",
            "\n",
            "7 * 4 = 28\n",
            "\n",
            "\n",
            "\n",
            "7 * 5 = 35\n",
            "\n",
            "\n",
            "\n",
            "7 * 6 = 42\n",
            "\n",
            "\n",
            "\n",
            "7 * 7 = 49\n",
            "\n",
            "\n",
            "\n",
            "7 * 8 = 56\n",
            "\n",
            "\n",
            "\n",
            "7 * 9 = 63\n",
            "\n",
            "\n",
            "\n",
            "8 * 1 =  8\n",
            "\n",
            "\n",
            "\n",
            "8 * 2 = 16\n",
            "\n",
            "\n",
            "\n",
            "8 * 3 = 24\n",
            "\n",
            "\n",
            "\n",
            "8 * 4 = 32\n",
            "\n",
            "\n",
            "\n",
            "8 * 5 = 40\n",
            "\n",
            "\n",
            "\n",
            "8 * 6 = 48\n",
            "\n",
            "\n",
            "\n",
            "8 * 7 = 56\n",
            "\n",
            "\n",
            "\n",
            "8 * 8 = 64\n",
            "\n",
            "\n",
            "\n",
            "8 * 9 = 72\n",
            "\n",
            "\n",
            "\n",
            "9 * 1 =  9\n",
            "\n",
            "\n",
            "\n",
            "9 * 2 = 18\n",
            "\n",
            "\n",
            "\n",
            "9 * 3 = 27\n",
            "\n",
            "\n",
            "\n",
            "9 * 4 = 36\n",
            "\n",
            "\n",
            "\n",
            "9 * 5 = 45\n",
            "\n",
            "\n",
            "\n",
            "9 * 6 = 54\n",
            "\n",
            "\n",
            "\n",
            "9 * 7 = 63\n",
            "\n",
            "\n",
            "\n",
            "9 * 8 = 72\n",
            "\n",
            "\n",
            "\n",
            "9 * 9 = 81\n",
            "\n",
            "\n",
            "\n"
          ]
        }
      ]
    },
    {
      "cell_type": "markdown",
      "source": [
        "### 퀴즈3 구구단을 만들고 2,3,4,5 \n",
        "### 줄바꿔서6,7,8,9를 출력하세요"
      ],
      "metadata": {
        "id": "YMJxSx7RI387"
      }
    },
    {
      "cell_type": "code",
      "source": [
        "i,j=2,2\n",
        "for i in range(1,10,1):\n",
        "  print(\"%d x %d = %2d\" % (j,i,i*j))\n",
        "print(\"\\n\")\n",
        "\n",
        "i,j=3,3\n",
        "for i in range(1,10,1):\n",
        "  print(\"%d x %d = %2d\" % (j,i,i*j))\n",
        "print(\"\\n\")\n",
        "\n",
        "i,j=4,4\n",
        "for i in range(1,10,1):\n",
        "  print(\"%d x %d = %2d\" % (j,i,i*j))\n",
        "print(\"\\n\")\n",
        "\n",
        "i,j=5,4\n",
        "for i in range(1,10,1):\n",
        "  print(\"%d x %d = %2d\" % (j,i,i*j))\n",
        "print(\"\\n\")\n",
        "\n",
        "i,j=6,5\n",
        "for i in range(1,10,1):\n",
        "  print(\"%d x %d = %2d\" % (j,i,i*j))\n",
        "print(\"\\n\")\n",
        "\n",
        "i,j=7,6\n",
        "for i in range(1,10,1):\n",
        "  print(\"%d x %d = %2d\" % (j,i,i*j))\n",
        "print(\"\\n\")\n",
        "\n",
        "i,j=8,7\n",
        "for i in range(1,10,1):\n",
        "  print(\"%d x %d = %2d\" % (j,i,i*j))\n",
        "print(\"\\n\")\n",
        "\n",
        "i,j=9,8\n",
        "for i in range(1,10,1):\n",
        "  print(\"%d x %d = %2d\" % (j,i,i*j))\n",
        "print(\"\\n\")\n",
        "\n",
        "i,j=9,9\n",
        "for i in range(1,10,1):\n",
        "  print(\"%d x %d = %2d\" % (j,i,i*j))\n",
        "print(\"\\n\")"
      ],
      "metadata": {
        "colab": {
          "base_uri": "https://localhost:8080/"
        },
        "id": "rYMj7dWRJJX6",
        "outputId": "2a5f97ee-1c0c-4d55-b5ad-751964ffac2c"
      },
      "execution_count": 1,
      "outputs": [
        {
          "output_type": "stream",
          "name": "stdout",
          "text": [
            "2 x 1 =  2\n",
            "2 x 2 =  4\n",
            "2 x 3 =  6\n",
            "2 x 4 =  8\n",
            "2 x 5 = 10\n",
            "2 x 6 = 12\n",
            "2 x 7 = 14\n",
            "2 x 8 = 16\n",
            "2 x 9 = 18\n",
            "\n",
            "\n",
            "3 x 1 =  3\n",
            "3 x 2 =  6\n",
            "3 x 3 =  9\n",
            "3 x 4 = 12\n",
            "3 x 5 = 15\n",
            "3 x 6 = 18\n",
            "3 x 7 = 21\n",
            "3 x 8 = 24\n",
            "3 x 9 = 27\n",
            "\n",
            "\n",
            "4 x 1 =  4\n",
            "4 x 2 =  8\n",
            "4 x 3 = 12\n",
            "4 x 4 = 16\n",
            "4 x 5 = 20\n",
            "4 x 6 = 24\n",
            "4 x 7 = 28\n",
            "4 x 8 = 32\n",
            "4 x 9 = 36\n",
            "\n",
            "\n",
            "4 x 1 =  4\n",
            "4 x 2 =  8\n",
            "4 x 3 = 12\n",
            "4 x 4 = 16\n",
            "4 x 5 = 20\n",
            "4 x 6 = 24\n",
            "4 x 7 = 28\n",
            "4 x 8 = 32\n",
            "4 x 9 = 36\n",
            "\n",
            "\n",
            "5 x 1 =  5\n",
            "5 x 2 = 10\n",
            "5 x 3 = 15\n",
            "5 x 4 = 20\n",
            "5 x 5 = 25\n",
            "5 x 6 = 30\n",
            "5 x 7 = 35\n",
            "5 x 8 = 40\n",
            "5 x 9 = 45\n",
            "\n",
            "\n",
            "6 x 1 =  6\n",
            "6 x 2 = 12\n",
            "6 x 3 = 18\n",
            "6 x 4 = 24\n",
            "6 x 5 = 30\n",
            "6 x 6 = 36\n",
            "6 x 7 = 42\n",
            "6 x 8 = 48\n",
            "6 x 9 = 54\n",
            "\n",
            "\n",
            "7 x 1 =  7\n",
            "7 x 2 = 14\n",
            "7 x 3 = 21\n",
            "7 x 4 = 28\n",
            "7 x 5 = 35\n",
            "7 x 6 = 42\n",
            "7 x 7 = 49\n",
            "7 x 8 = 56\n",
            "7 x 9 = 63\n",
            "\n",
            "\n",
            "8 x 1 =  8\n",
            "8 x 2 = 16\n",
            "8 x 3 = 24\n",
            "8 x 4 = 32\n",
            "8 x 5 = 40\n",
            "8 x 6 = 48\n",
            "8 x 7 = 56\n",
            "8 x 8 = 64\n",
            "8 x 9 = 72\n",
            "\n",
            "\n",
            "9 x 1 =  9\n",
            "9 x 2 = 18\n",
            "9 x 3 = 27\n",
            "9 x 4 = 36\n",
            "9 x 5 = 45\n",
            "9 x 6 = 54\n",
            "9 x 7 = 63\n",
            "9 x 8 = 72\n",
            "9 x 9 = 81\n",
            "\n",
            "\n"
          ]
        }
      ]
    },
    {
      "cell_type": "markdown",
      "source": [
        "#CH3. 자료형\n",
        "\n",
        "## 1. 리스트 인덱스,슬라이싱"
      ],
      "metadata": {
        "id": "X9v_yLOVfUXe"
      }
    },
    {
      "cell_type": "code",
      "source": [
        "a = [1,2,3,4,5,6,7,8,9]\n",
        "\n",
        "print(a)\n",
        "print(a[0])\n"
      ],
      "metadata": {
        "colab": {
          "base_uri": "https://localhost:8080/"
        },
        "id": "i-rXFL0IiEhG",
        "outputId": "2734c37e-0fdf-42d3-b412-ab44bae88306"
      },
      "execution_count": 5,
      "outputs": [
        {
          "output_type": "stream",
          "name": "stdout",
          "text": [
            "[1, 2, 3, 4, 5, 6, 7, 8, 9]\n",
            "1\n"
          ]
        }
      ]
    },
    {
      "cell_type": "code",
      "source": [
        "a = [1,2,3,4,5,6,7,8,9]\n",
        "\n",
        "print(a[-1])\n",
        "print(a[-2])"
      ],
      "metadata": {
        "colab": {
          "base_uri": "https://localhost:8080/"
        },
        "id": "qty5SMyMlLjV",
        "outputId": "4884eb9e-f372-4dd1-cca0-7662f8dca044"
      },
      "execution_count": 7,
      "outputs": [
        {
          "output_type": "stream",
          "name": "stdout",
          "text": [
            "9\n",
            "8\n"
          ]
        }
      ]
    },
    {
      "cell_type": "code",
      "source": [
        "a = [1,2,3,4,5,6,7,8,9]\n",
        "\n",
        "print(a[1:9:2])\n",
        "print(a[0:9:2])\n"
      ],
      "metadata": {
        "colab": {
          "base_uri": "https://localhost:8080/"
        },
        "id": "uqobJYiWlPdl",
        "outputId": "8e9916ea-b945-4e2a-a141-920e5a4263bb"
      },
      "execution_count": 6,
      "outputs": [
        {
          "output_type": "stream",
          "name": "stdout",
          "text": [
            "[2, 4, 6, 8]\n",
            "[1, 3, 5, 7, 9]\n"
          ]
        }
      ]
    },
    {
      "cell_type": "code",
      "source": [
        "a = [1,2,3,4,5,6,7,8,9]\n",
        "\n",
        "print(a[:4])\n",
        "print(a[5:])"
      ],
      "metadata": {
        "colab": {
          "base_uri": "https://localhost:8080/"
        },
        "id": "ZabtsmoIlXul",
        "outputId": "0ab69aa5-e814-4267-cf0b-8ecdbca72b59"
      },
      "execution_count": 8,
      "outputs": [
        {
          "output_type": "stream",
          "name": "stdout",
          "text": [
            "[1, 2, 3, 4]\n",
            "[6, 7, 8, 9]\n"
          ]
        }
      ]
    },
    {
      "cell_type": "code",
      "source": [
        "a = [1,2,3,4,5,6,7,8,9]\n",
        "\n",
        "print(len(a))\n",
        "print(len(a)-1)"
      ],
      "metadata": {
        "colab": {
          "base_uri": "https://localhost:8080/"
        },
        "id": "VsvztHIJliDl",
        "outputId": "2ddf2510-6d3a-461c-99f4-00a040c8ea17"
      },
      "execution_count": 9,
      "outputs": [
        {
          "output_type": "stream",
          "name": "stdout",
          "text": [
            "9\n",
            "8\n"
          ]
        }
      ]
    },
    {
      "cell_type": "code",
      "source": [
        "b=[1,2,3,4,5,6]\n",
        "\n",
        "b[0]=\"apple\"\n",
        "b[1]=99\n",
        "b[5]=[1,2,3]\n",
        "print(b)"
      ],
      "metadata": {
        "colab": {
          "base_uri": "https://localhost:8080/"
        },
        "id": "nLrNWSp1loud",
        "outputId": "a4b2f01a-d5ce-4c0b-f21f-58d217dc6428"
      },
      "execution_count": 11,
      "outputs": [
        {
          "output_type": "stream",
          "name": "stdout",
          "text": [
            "['apple', 99, 3, 4, 5, [1, 2, 3]]\n"
          ]
        }
      ]
    },
    {
      "cell_type": "markdown",
      "source": [
        "##list add"
      ],
      "metadata": {
        "id": "kQ3ifVnLmPxV"
      }
    },
    {
      "cell_type": "code",
      "source": [
        "a=[1,2,3]\n",
        "b=[4,5,6]\n",
        "c=a+b\n",
        "print(a+b)\n",
        "print(c)\n",
        "print(c*3)"
      ],
      "metadata": {
        "colab": {
          "base_uri": "https://localhost:8080/"
        },
        "id": "z3mlAVrEmVGF",
        "outputId": "7f8cd18c-f6c1-4afd-b096-bd012428217f"
      },
      "execution_count": 14,
      "outputs": [
        {
          "output_type": "stream",
          "name": "stdout",
          "text": [
            "[1, 2, 3, 4, 5, 6]\n",
            "[1, 2, 3, 4, 5, 6]\n",
            "[1, 2, 3, 4, 5, 6, 1, 2, 3, 4, 5, 6, 1, 2, 3, 4, 5, 6]\n"
          ]
        }
      ]
    },
    {
      "cell_type": "code",
      "source": [
        "k=[\"a\",\"b\",\"c\",\"d\",\"c\"]\n",
        "k.remove(\"c\") #해당 값요소 삭제\n",
        "print(k)\n",
        "k.append(\"f\") #맨뒤에 추가\n",
        "print(k)\n"
      ],
      "metadata": {
        "colab": {
          "base_uri": "https://localhost:8080/"
        },
        "id": "uICC507JnFXu",
        "outputId": "b8df550b-dbc2-412b-d625-0b5505ac22f2"
      },
      "execution_count": 16,
      "outputs": [
        {
          "output_type": "stream",
          "name": "stdout",
          "text": [
            "['a', 'b', 'd', 'c']\n",
            "['a', 'b', 'd', 'c', 'f']\n"
          ]
        }
      ]
    },
    {
      "cell_type": "code",
      "source": [
        "j=\"God is love!\"\n",
        "print(j[:3])\n",
        "print(j[4:6])\n",
        "print(j[7:])"
      ],
      "metadata": {
        "colab": {
          "base_uri": "https://localhost:8080/"
        },
        "id": "iYSErNvrnFaN",
        "outputId": "9001311c-ee0a-445d-d806-104c483c47be"
      },
      "execution_count": 17,
      "outputs": [
        {
          "output_type": "stream",
          "name": "stdout",
          "text": [
            "God\n",
            "is\n",
            "love!\n"
          ]
        }
      ]
    },
    {
      "cell_type": "code",
      "source": [
        "j=\" God is love! \"\n",
        "print(j.upper())\n",
        "print(j.lower())\n",
        "print(j.strip())"
      ],
      "metadata": {
        "colab": {
          "base_uri": "https://localhost:8080/"
        },
        "id": "sx9Xp5cOmYvl",
        "outputId": "6698e1f9-2a9c-4864-e6d9-87764f98ece8"
      },
      "execution_count": 19,
      "outputs": [
        {
          "output_type": "stream",
          "name": "stdout",
          "text": [
            " GOD IS LOVE! \n",
            " god is love! \n",
            "God is love!\n"
          ]
        }
      ]
    },
    {
      "cell_type": "code",
      "source": [
        "a=\"apple,mango,banana\"\n",
        "print(a.split(\",\"))"
      ],
      "metadata": {
        "colab": {
          "base_uri": "https://localhost:8080/"
        },
        "id": "wT7LApf2s_F0",
        "outputId": "6d4df82b-14b1-416d-e2c3-3f43ab2dc115"
      },
      "execution_count": 20,
      "outputs": [
        {
          "output_type": "stream",
          "name": "stdout",
          "text": [
            "['apple', 'mango', 'banana']\n"
          ]
        }
      ]
    },
    {
      "cell_type": "code",
      "source": [
        "a=[\"apple,banana,cherry\"]\n",
        "a.append(\"orange\")\n",
        "print(a)"
      ],
      "metadata": {
        "colab": {
          "base_uri": "https://localhost:8080/"
        },
        "id": "B5hGCH_ttTmL",
        "outputId": "4e6a1a0f-8ffe-4e48-d59c-1c90b267332a"
      },
      "execution_count": 25,
      "outputs": [
        {
          "output_type": "stream",
          "name": "stdout",
          "text": [
            "['apple,banana,cherry', 'orange']\n"
          ]
        }
      ]
    },
    {
      "cell_type": "code",
      "source": [
        "a=[\"apple\",\"banana\",\"cherry\"]\n",
        "a.insert(1,\"orange\")\n",
        "print(a)"
      ],
      "metadata": {
        "colab": {
          "base_uri": "https://localhost:8080/"
        },
        "id": "rLtYMUhHt2Di",
        "outputId": "9962ef87-eaed-4fa1-f79a-21a956b1f26d"
      },
      "execution_count": 31,
      "outputs": [
        {
          "output_type": "stream",
          "name": "stdout",
          "text": [
            "['apple', 'orange', 'banana', 'cherry']\n"
          ]
        }
      ]
    },
    {
      "cell_type": "code",
      "source": [
        "a=[\"apple\",\"banana\",\"cherry\",\"banana\"]\n",
        "a.remove(\"banana\")\n",
        "print(a)"
      ],
      "metadata": {
        "colab": {
          "base_uri": "https://localhost:8080/"
        },
        "id": "przxGTFKuIzk",
        "outputId": "ddd6811f-be56-4427-cd55-0aa8f7a5bc19"
      },
      "execution_count": 33,
      "outputs": [
        {
          "output_type": "stream",
          "name": "stdout",
          "text": [
            "['apple', 'cherry', 'banana']\n"
          ]
        }
      ]
    },
    {
      "cell_type": "code",
      "source": [
        "a=[\"apple\",\"banana\",\"cherry\"]\n",
        "a.pop()\n",
        "print(a)\n",
        "a.pop(1)\n",
        "print(a)"
      ],
      "metadata": {
        "colab": {
          "base_uri": "https://localhost:8080/"
        },
        "id": "8v9j-Vk_u8vM",
        "outputId": "e862db2d-a06c-4954-99d4-21f933cbd030"
      },
      "execution_count": 34,
      "outputs": [
        {
          "output_type": "stream",
          "name": "stdout",
          "text": [
            "['apple', 'banana']\n",
            "['apple']\n"
          ]
        }
      ]
    },
    {
      "cell_type": "code",
      "source": [
        "fruit=[\"사과\",\"배\",\"오렌지\"]\n",
        "for i in fruit:\n",
        "  print(i)"
      ],
      "metadata": {
        "colab": {
          "base_uri": "https://localhost:8080/"
        },
        "id": "WemjLwd9vH6q",
        "outputId": "43b6ea88-b55f-43ac-8eb0-7101eb52e638"
      },
      "execution_count": 35,
      "outputs": [
        {
          "output_type": "stream",
          "name": "stdout",
          "text": [
            "사과\n",
            "배\n",
            "오렌지\n"
          ]
        }
      ]
    },
    {
      "cell_type": "code",
      "source": [
        "fruit=[\"감\",\"밤\",\"대추\"]\n",
        "for i in range(len(fruit)):\n",
        " print(fruit)"
      ],
      "metadata": {
        "colab": {
          "base_uri": "https://localhost:8080/"
        },
        "id": "oP3Racqmvf2B",
        "outputId": "a5a841a9-c667-416b-c833-d45bea25ef84"
      },
      "execution_count": 36,
      "outputs": [
        {
          "output_type": "stream",
          "name": "stdout",
          "text": [
            "['감', '밤', '대추']\n",
            "['감', '밤', '대추']\n",
            "['감', '밤', '대추']\n"
          ]
        }
      ]
    },
    {
      "cell_type": "code",
      "source": [
        "a=[8,6,1,4,5,7,2,3,9,0]\n",
        "a.sort()\n",
        "print(a)"
      ],
      "metadata": {
        "colab": {
          "base_uri": "https://localhost:8080/"
        },
        "id": "jMZe62cjv8M6",
        "outputId": "dd62ecfb-9fd3-471f-d9b8-7542004cea60"
      },
      "execution_count": 37,
      "outputs": [
        {
          "output_type": "stream",
          "name": "stdout",
          "text": [
            "[0, 1, 2, 3, 4, 5, 6, 7, 8, 9]\n"
          ]
        }
      ]
    },
    {
      "cell_type": "code",
      "source": [
        "a=[8,6,1,4,5,7,2,3,9,0]\n",
        "a.sort(reverse=True)\n",
        "print(a)\n",
        "a.sort()\n",
        "print(a)"
      ],
      "metadata": {
        "colab": {
          "base_uri": "https://localhost:8080/"
        },
        "id": "MmwMsUXKwT6Z",
        "outputId": "9ba31002-f80e-499e-fc65-896d1e0ac77e"
      },
      "execution_count": 39,
      "outputs": [
        {
          "output_type": "stream",
          "name": "stdout",
          "text": [
            "[9, 8, 7, 6, 5, 4, 3, 2, 1, 0]\n",
            "[0, 1, 2, 3, 4, 5, 6, 7, 8, 9]\n"
          ]
        }
      ]
    },
    {
      "cell_type": "code",
      "source": [
        "fruit=[\"Kiwi\",\"apple\",\"Orange\",\"banana\"]\n",
        "fruit.sort()\n",
        "print(fruit)\n",
        "fruit.sort(key=str.lower)\n",
        "print(fruit)\n",
        "fruit.reverse()\n",
        "print(fruit)"
      ],
      "metadata": {
        "colab": {
          "base_uri": "https://localhost:8080/"
        },
        "id": "O5tD7bJXwx-a",
        "outputId": "68362288-975c-4457-bb5d-208df467cba2"
      },
      "execution_count": 41,
      "outputs": [
        {
          "output_type": "stream",
          "name": "stdout",
          "text": [
            "['Kiwi', 'Orange', 'apple', 'banana']\n",
            "['apple', 'banana', 'Kiwi', 'Orange']\n",
            "['Orange', 'Kiwi', 'banana', 'apple']\n"
          ]
        }
      ]
    },
    {
      "cell_type": "code",
      "source": [
        "#list 복사\n",
        "fruit = [\"Kiwi\",\"apple\",\"Orange\",\"banana\"]\n",
        "myList=fruit.copy()\n",
        "print=(myList)\n",
        "cyList=list(fruit)\n",
        "print(cyList)"
      ],
      "metadata": {
        "colab": {
          "base_uri": "https://localhost:8080/",
          "height": 211
        },
        "id": "vGbYtjyszk7h",
        "outputId": "8fe7b384-7ae5-4b01-d8fe-d7aeedcbcbd0"
      },
      "execution_count": 46,
      "outputs": [
        {
          "output_type": "error",
          "ename": "TypeError",
          "evalue": "ignored",
          "traceback": [
            "\u001b[0;31m---------------------------------------------------------------------------\u001b[0m",
            "\u001b[0;31mTypeError\u001b[0m                                 Traceback (most recent call last)",
            "\u001b[0;32m<ipython-input-46-aa96c6ac61f9>\u001b[0m in \u001b[0;36m<module>\u001b[0;34m\u001b[0m\n\u001b[1;32m      4\u001b[0m \u001b[0mprint\u001b[0m\u001b[0;34m=\u001b[0m\u001b[0;34m(\u001b[0m\u001b[0mmyList\u001b[0m\u001b[0;34m)\u001b[0m\u001b[0;34m\u001b[0m\u001b[0;34m\u001b[0m\u001b[0m\n\u001b[1;32m      5\u001b[0m \u001b[0mcyList\u001b[0m\u001b[0;34m=\u001b[0m\u001b[0mlist\u001b[0m\u001b[0;34m(\u001b[0m\u001b[0mfruit\u001b[0m\u001b[0;34m)\u001b[0m\u001b[0;34m\u001b[0m\u001b[0;34m\u001b[0m\u001b[0m\n\u001b[0;32m----> 6\u001b[0;31m \u001b[0mprint\u001b[0m\u001b[0;34m(\u001b[0m\u001b[0mcyList\u001b[0m\u001b[0;34m)\u001b[0m\u001b[0;34m\u001b[0m\u001b[0;34m\u001b[0m\u001b[0m\n\u001b[0m",
            "\u001b[0;31mTypeError\u001b[0m: 'list' object is not callable"
          ]
        }
      ]
    },
    {
      "cell_type": "markdown",
      "source": [
        "# Tuple 튜플\n"
      ],
      "metadata": {
        "id": "29uCuP--1D_Q"
      }
    },
    {
      "cell_type": "code",
      "source": [
        "l=[1,2,3]\n",
        "t=(1,2,3)\n",
        "print(type(l))\n",
        "print(type(t))\n"
      ],
      "metadata": {
        "colab": {
          "base_uri": "https://localhost:8080/",
          "height": 229
        },
        "id": "J2wsT6_R1Kzl",
        "outputId": "b116c53d-6989-4439-c476-78cca751cad0"
      },
      "execution_count": 51,
      "outputs": [
        {
          "output_type": "error",
          "ename": "TypeError",
          "evalue": "ignored",
          "traceback": [
            "\u001b[0;31m---------------------------------------------------------------------------\u001b[0m",
            "\u001b[0;31mTypeError\u001b[0m                                 Traceback (most recent call last)",
            "\u001b[0;32m<ipython-input-51-28c2edb572eb>\u001b[0m in \u001b[0;36m<module>\u001b[0;34m\u001b[0m\n\u001b[1;32m      1\u001b[0m \u001b[0ml\u001b[0m\u001b[0;34m=\u001b[0m\u001b[0;34m[\u001b[0m\u001b[0;36m1\u001b[0m\u001b[0;34m,\u001b[0m\u001b[0;36m2\u001b[0m\u001b[0;34m,\u001b[0m\u001b[0;36m3\u001b[0m\u001b[0;34m]\u001b[0m\u001b[0;34m\u001b[0m\u001b[0;34m\u001b[0m\u001b[0m\n\u001b[1;32m      2\u001b[0m \u001b[0mt\u001b[0m\u001b[0;34m=\u001b[0m\u001b[0;34m(\u001b[0m\u001b[0;36m1\u001b[0m\u001b[0;34m,\u001b[0m\u001b[0;36m2\u001b[0m\u001b[0;34m,\u001b[0m\u001b[0;36m3\u001b[0m\u001b[0;34m)\u001b[0m\u001b[0;34m\u001b[0m\u001b[0;34m\u001b[0m\u001b[0m\n\u001b[0;32m----> 3\u001b[0;31m \u001b[0mprint\u001b[0m\u001b[0;34m(\u001b[0m\u001b[0mtype\u001b[0m\u001b[0;34m(\u001b[0m\u001b[0ml\u001b[0m\u001b[0;34m)\u001b[0m\u001b[0;34m)\u001b[0m\u001b[0;34m\u001b[0m\u001b[0;34m\u001b[0m\u001b[0m\n\u001b[0m\u001b[1;32m      4\u001b[0m \u001b[0mprint\u001b[0m\u001b[0;34m(\u001b[0m\u001b[0mtype\u001b[0m\u001b[0;34m(\u001b[0m\u001b[0mt\u001b[0m\u001b[0;34m)\u001b[0m\u001b[0;34m)\u001b[0m\u001b[0;34m\u001b[0m\u001b[0;34m\u001b[0m\u001b[0m\n",
            "\u001b[0;31mTypeError\u001b[0m: 'list' object is not callable"
          ]
        }
      ]
    },
    {
      "cell_type": "code",
      "source": [
        "l=[1,2,3]\n",
        "t=(5,6,7)\n",
        "\n",
        "l[0]\n",
        "print"
      ],
      "metadata": {
        "id": "3XmKzBF211yJ"
      },
      "execution_count": 52,
      "outputs": []
    },
    {
      "cell_type": "code",
      "source": [
        "f=(\"apple\",\"banana\",\"Cherry\")\n",
        "print(len(f))"
      ],
      "metadata": {
        "colab": {
          "base_uri": "https://localhost:8080/",
          "height": 193
        },
        "id": "PsAeLq6117dZ",
        "outputId": "465a6531-1183-44ca-f7e6-e8a8351d56f9"
      },
      "execution_count": 54,
      "outputs": [
        {
          "output_type": "error",
          "ename": "TypeError",
          "evalue": "ignored",
          "traceback": [
            "\u001b[0;31m---------------------------------------------------------------------------\u001b[0m",
            "\u001b[0;31mTypeError\u001b[0m                                 Traceback (most recent call last)",
            "\u001b[0;32m<ipython-input-54-8a4e9a8ca20f>\u001b[0m in \u001b[0;36m<module>\u001b[0;34m\u001b[0m\n\u001b[1;32m      1\u001b[0m \u001b[0mf\u001b[0m\u001b[0;34m=\u001b[0m\u001b[0;34m(\u001b[0m\u001b[0;34m\"apple\"\u001b[0m\u001b[0;34m,\u001b[0m\u001b[0;34m\"banana\"\u001b[0m\u001b[0;34m,\u001b[0m\u001b[0;34m\"Cherry\"\u001b[0m\u001b[0;34m)\u001b[0m\u001b[0;34m\u001b[0m\u001b[0;34m\u001b[0m\u001b[0m\n\u001b[0;32m----> 2\u001b[0;31m \u001b[0mprint\u001b[0m\u001b[0;34m(\u001b[0m\u001b[0mlen\u001b[0m\u001b[0;34m(\u001b[0m\u001b[0mf\u001b[0m\u001b[0;34m)\u001b[0m\u001b[0;34m)\u001b[0m\u001b[0;34m\u001b[0m\u001b[0;34m\u001b[0m\u001b[0m\n\u001b[0m",
            "\u001b[0;31mTypeError\u001b[0m: 'list' object is not callable"
          ]
        }
      ]
    },
    {
      "cell_type": "code",
      "source": [
        "t=(\"Kiwi\")\n",
        "print(t)\n",
        "print(type(t))"
      ],
      "metadata": {
        "colab": {
          "base_uri": "https://localhost:8080/",
          "height": 211
        },
        "id": "4CKigSrJ2Yxo",
        "outputId": "2119bc6d-c832-40d0-cbae-cda74fc26f16"
      },
      "execution_count": 55,
      "outputs": [
        {
          "output_type": "error",
          "ename": "TypeError",
          "evalue": "ignored",
          "traceback": [
            "\u001b[0;31m---------------------------------------------------------------------------\u001b[0m",
            "\u001b[0;31mTypeError\u001b[0m                                 Traceback (most recent call last)",
            "\u001b[0;32m<ipython-input-55-be76f784dd96>\u001b[0m in \u001b[0;36m<module>\u001b[0;34m\u001b[0m\n\u001b[1;32m      1\u001b[0m \u001b[0mt\u001b[0m\u001b[0;34m=\u001b[0m\u001b[0;34m(\u001b[0m\u001b[0;34m\"Kiwi\"\u001b[0m\u001b[0;34m)\u001b[0m\u001b[0;34m\u001b[0m\u001b[0;34m\u001b[0m\u001b[0m\n\u001b[0;32m----> 2\u001b[0;31m \u001b[0mprint\u001b[0m\u001b[0;34m(\u001b[0m\u001b[0mt\u001b[0m\u001b[0;34m)\u001b[0m\u001b[0;34m\u001b[0m\u001b[0;34m\u001b[0m\u001b[0m\n\u001b[0m\u001b[1;32m      3\u001b[0m \u001b[0mprint\u001b[0m\u001b[0;34m(\u001b[0m\u001b[0mtype\u001b[0m\u001b[0;34m(\u001b[0m\u001b[0mt\u001b[0m\u001b[0;34m)\u001b[0m\u001b[0;34m)\u001b[0m\u001b[0;34m\u001b[0m\u001b[0;34m\u001b[0m\u001b[0m\n",
            "\u001b[0;31mTypeError\u001b[0m: 'list' object is not callable"
          ]
        }
      ]
    },
    {
      "cell_type": "code",
      "source": [
        "f = [\"banana\",\"apple\",\"Kiwi\",\"cherry\",\"Orange\"]\n",
        "print(f(:4))\n",
        "print(f(:6))"
      ],
      "metadata": {
        "colab": {
          "base_uri": "https://localhost:8080/",
          "height": 137
        },
        "id": "r250azP83d6z",
        "outputId": "161837b8-c2fe-476d-e16f-f6ce05a3ee7b"
      },
      "execution_count": 56,
      "outputs": [
        {
          "output_type": "error",
          "ename": "SyntaxError",
          "evalue": "ignored",
          "traceback": [
            "\u001b[0;36m  File \u001b[0;32m\"<ipython-input-56-ad6eb6d8913d>\"\u001b[0;36m, line \u001b[0;32m2\u001b[0m\n\u001b[0;31m    print(f(:4))\u001b[0m\n\u001b[0m            ^\u001b[0m\n\u001b[0;31mSyntaxError\u001b[0m\u001b[0;31m:\u001b[0m invalid syntax\n"
          ]
        }
      ]
    },
    {
      "cell_type": "markdown",
      "source": [
        "##Typle <->List"
      ],
      "metadata": {
        "id": "TYrpEERR37ZP"
      }
    },
    {
      "cell_type": "code",
      "source": [
        "#튜플에 추가하는 방법\n",
        "f = [\"apple\",\"Banana\",\"cherry\",]\n",
        "y=list(t)\n",
        "print(type(y))\n",
        "y.append(\"Orange\")\n",
        "t=tuple(y)\n",
        "print(t)"
      ],
      "metadata": {
        "colab": {
          "base_uri": "https://localhost:8080/",
          "height": 248
        },
        "id": "b1zA9sOA33fw",
        "outputId": "253396e9-9a4c-484e-d127-07b8dec006af"
      },
      "execution_count": 57,
      "outputs": [
        {
          "output_type": "error",
          "ename": "TypeError",
          "evalue": "ignored",
          "traceback": [
            "\u001b[0;31m---------------------------------------------------------------------------\u001b[0m",
            "\u001b[0;31mTypeError\u001b[0m                                 Traceback (most recent call last)",
            "\u001b[0;32m<ipython-input-57-086f8049a149>\u001b[0m in \u001b[0;36m<module>\u001b[0;34m\u001b[0m\n\u001b[1;32m      2\u001b[0m \u001b[0mf\u001b[0m \u001b[0;34m=\u001b[0m \u001b[0;34m[\u001b[0m\u001b[0;34m\"apple\"\u001b[0m\u001b[0;34m,\u001b[0m\u001b[0;34m\"Banana\"\u001b[0m\u001b[0;34m,\u001b[0m\u001b[0;34m\"cherry\"\u001b[0m\u001b[0;34m,\u001b[0m\u001b[0;34m]\u001b[0m\u001b[0;34m\u001b[0m\u001b[0;34m\u001b[0m\u001b[0m\n\u001b[1;32m      3\u001b[0m \u001b[0my\u001b[0m\u001b[0;34m=\u001b[0m\u001b[0mlist\u001b[0m\u001b[0;34m(\u001b[0m\u001b[0mt\u001b[0m\u001b[0;34m)\u001b[0m\u001b[0;34m\u001b[0m\u001b[0;34m\u001b[0m\u001b[0m\n\u001b[0;32m----> 4\u001b[0;31m \u001b[0mprint\u001b[0m\u001b[0;34m(\u001b[0m\u001b[0mtype\u001b[0m\u001b[0;34m(\u001b[0m\u001b[0my\u001b[0m\u001b[0;34m)\u001b[0m\u001b[0;34m)\u001b[0m\u001b[0;34m\u001b[0m\u001b[0;34m\u001b[0m\u001b[0m\n\u001b[0m\u001b[1;32m      5\u001b[0m \u001b[0my\u001b[0m\u001b[0;34m.\u001b[0m\u001b[0mappend\u001b[0m\u001b[0;34m(\u001b[0m\u001b[0;34m\"Orange\"\u001b[0m\u001b[0;34m)\u001b[0m\u001b[0;34m\u001b[0m\u001b[0;34m\u001b[0m\u001b[0m\n\u001b[1;32m      6\u001b[0m \u001b[0mt\u001b[0m\u001b[0;34m=\u001b[0m\u001b[0mtuple\u001b[0m\u001b[0;34m(\u001b[0m\u001b[0my\u001b[0m\u001b[0;34m)\u001b[0m\u001b[0;34m\u001b[0m\u001b[0;34m\u001b[0m\u001b[0m\n",
            "\u001b[0;31mTypeError\u001b[0m: 'list' object is not callable"
          ]
        }
      ]
    },
    {
      "cell_type": "code",
      "source": [
        "company = [\"LG\",\"SK\",\"Apple\"]\n",
        "t = tuple(company)\n",
        "print(company)\n",
        "print(t)"
      ],
      "metadata": {
        "colab": {
          "base_uri": "https://localhost:8080/",
          "height": 229
        },
        "id": "5p3Cv1RQ5Jbw",
        "outputId": "2636410a-b466-4863-b477-0ce242b0421a"
      },
      "execution_count": 58,
      "outputs": [
        {
          "output_type": "error",
          "ename": "TypeError",
          "evalue": "ignored",
          "traceback": [
            "\u001b[0;31m---------------------------------------------------------------------------\u001b[0m",
            "\u001b[0;31mTypeError\u001b[0m                                 Traceback (most recent call last)",
            "\u001b[0;32m<ipython-input-58-4811df7dfe71>\u001b[0m in \u001b[0;36m<module>\u001b[0;34m\u001b[0m\n\u001b[1;32m      1\u001b[0m \u001b[0mcompany\u001b[0m \u001b[0;34m=\u001b[0m \u001b[0;34m[\u001b[0m\u001b[0;34m\"LG\"\u001b[0m\u001b[0;34m,\u001b[0m\u001b[0;34m\"SK\"\u001b[0m\u001b[0;34m,\u001b[0m\u001b[0;34m\"Apple\"\u001b[0m\u001b[0;34m]\u001b[0m\u001b[0;34m\u001b[0m\u001b[0;34m\u001b[0m\u001b[0m\n\u001b[1;32m      2\u001b[0m \u001b[0mt\u001b[0m \u001b[0;34m=\u001b[0m \u001b[0mtuple\u001b[0m\u001b[0;34m(\u001b[0m\u001b[0mcompany\u001b[0m\u001b[0;34m)\u001b[0m\u001b[0;34m\u001b[0m\u001b[0;34m\u001b[0m\u001b[0m\n\u001b[0;32m----> 3\u001b[0;31m \u001b[0mprint\u001b[0m\u001b[0;34m(\u001b[0m\u001b[0mcompany\u001b[0m\u001b[0;34m)\u001b[0m\u001b[0;34m\u001b[0m\u001b[0;34m\u001b[0m\u001b[0m\n\u001b[0m\u001b[1;32m      4\u001b[0m \u001b[0mprint\u001b[0m\u001b[0;34m(\u001b[0m\u001b[0mt\u001b[0m\u001b[0;34m)\u001b[0m\u001b[0;34m\u001b[0m\u001b[0;34m\u001b[0m\u001b[0m\n",
            "\u001b[0;31mTypeError\u001b[0m: 'list' object is not callable"
          ]
        }
      ]
    },
    {
      "cell_type": "code",
      "source": [
        "c= [\"LG\",\"SK\",\"Apple\"]\n",
        "d = [\"Samsun\",]\n",
        "c+=d\n",
        "print(c)"
      ],
      "metadata": {
        "colab": {
          "base_uri": "https://localhost:8080/",
          "height": 211
        },
        "id": "w4Nksx1M6Y_P",
        "outputId": "f6e8a01c-be3e-410e-d7fd-70137bff97c0"
      },
      "execution_count": 59,
      "outputs": [
        {
          "output_type": "error",
          "ename": "TypeError",
          "evalue": "ignored",
          "traceback": [
            "\u001b[0;31m---------------------------------------------------------------------------\u001b[0m",
            "\u001b[0;31mTypeError\u001b[0m                                 Traceback (most recent call last)",
            "\u001b[0;32m<ipython-input-59-5bd64fa9f477>\u001b[0m in \u001b[0;36m<module>\u001b[0;34m\u001b[0m\n\u001b[1;32m      2\u001b[0m \u001b[0md\u001b[0m \u001b[0;34m=\u001b[0m \u001b[0;34m[\u001b[0m\u001b[0;34m\"Samsun\"\u001b[0m\u001b[0;34m,\u001b[0m\u001b[0;34m]\u001b[0m\u001b[0;34m\u001b[0m\u001b[0;34m\u001b[0m\u001b[0m\n\u001b[1;32m      3\u001b[0m \u001b[0mc\u001b[0m\u001b[0;34m+=\u001b[0m\u001b[0md\u001b[0m\u001b[0;34m\u001b[0m\u001b[0;34m\u001b[0m\u001b[0m\n\u001b[0;32m----> 4\u001b[0;31m \u001b[0mprint\u001b[0m\u001b[0;34m(\u001b[0m\u001b[0mc\u001b[0m\u001b[0;34m)\u001b[0m\u001b[0;34m\u001b[0m\u001b[0;34m\u001b[0m\u001b[0m\n\u001b[0m",
            "\u001b[0;31mTypeError\u001b[0m: 'list' object is not callable"
          ]
        }
      ]
    },
    {
      "cell_type": "code",
      "source": [],
      "metadata": {
        "id": "Hyc8mGyHFcf8"
      },
      "execution_count": null,
      "outputs": []
    }
  ]
}