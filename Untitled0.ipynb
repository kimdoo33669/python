{
  "nbformat": 4,
  "nbformat_minor": 0,
  "metadata": {
    "colab": {
      "provenance": [],
      "authorship_tag": "ABX9TyPXtb8XrohpgzKb5Piv9A3M",
      "include_colab_link": true
    },
    "kernelspec": {
      "name": "python3",
      "display_name": "Python 3"
    },
    "language_info": {
      "name": "python"
    }
  },
  "cells": [
    {
      "cell_type": "markdown",
      "metadata": {
        "id": "view-in-github",
        "colab_type": "text"
      },
      "source": [
        "<a href=\"https://colab.research.google.com/github/kimdoo33669/python/blob/main/Untitled0.ipynb\" target=\"_parent\"><img src=\"https://colab.research.google.com/assets/colab-badge.svg\" alt=\"Open In Colab\"/></a>"
      ]
    },
    {
      "cell_type": "markdown",
      "source": [
        "#CH2. 서식출력 print()#"
      ],
      "metadata": {
        "id": "FWKR2A05kUvJ"
      }
    },
    {
      "cell_type": "code",
      "source": [
        "print(\"%d\" % 123)\n",
        "print(\"%5d\" % 123)\n",
        "print(\"%05d\" % 123)\n",
        "\n",
        "print(\"%f\" % 123.45)\n",
        "print(\"%7.1f\" % 123.45)\n",
        "print(\"%7.3f\" % 123.45)\n",
        "\n",
        "print(\"%c\" % \"1\")\n",
        "print(\"%s\" % \"가나다라\")\n",
        "print(\"%6s\" % \"가나다라\")\n",
        "print(\"%6s\" % \"abcd\")"
      ],
      "metadata": {
        "colab": {
          "base_uri": "https://localhost:8080/"
        },
        "id": "0bFqqNwKiir6",
        "outputId": "1dfc93d8-5361-410c-8932-9d21d6474678"
      },
      "execution_count": 12,
      "outputs": [
        {
          "output_type": "stream",
          "name": "stdout",
          "text": [
            "123\n",
            "  123\n",
            "00123\n",
            "123.450000\n",
            "  123.5\n",
            "123.450\n",
            "1\n",
            "가나다라\n",
            "  가나다라\n",
            "  abcd\n"
          ]
        }
      ]
    },
    {
      "cell_type": "markdown",
      "source": [
        "#### 순서지정가능:format\n"
      ],
      "metadata": {
        "id": "bMYyeEHRkY-p"
      }
    },
    {
      "cell_type": "code",
      "source": [
        "print(\"{0:d} {1:5d} {2:05d}\".format(123,456,789))"
      ],
      "metadata": {
        "colab": {
          "base_uri": "https://localhost:8080/"
        },
        "id": "OL2tJHAzkerp",
        "outputId": "74584f39-9b84-4fa9-fc0b-40d346a77c5d"
      },
      "execution_count": 15,
      "outputs": [
        {
          "output_type": "stream",
          "name": "stdout",
          "text": [
            "123   456 00789\n"
          ]
        }
      ]
    },
    {
      "cell_type": "markdown",
      "source": [
        "#### 서식출력\n"
      ],
      "metadata": {
        "id": "fF3Nw1YUlE0p"
      }
    },
    {
      "cell_type": "code",
      "source": [
        "print(\"\\n줄 바꿈 명령 \\n연습입니다.\")"
      ],
      "metadata": {
        "colab": {
          "base_uri": "https://localhost:8080/"
        },
        "id": "xxDQ24oolJcZ",
        "outputId": "03ad969a-5e99-4cf4-ff66-90b5eec1b785"
      },
      "execution_count": 16,
      "outputs": [
        {
          "output_type": "stream",
          "name": "stdout",
          "text": [
            "\n",
            "줄 바꿈 명령 \n",
            "연습입니다.\n"
          ]
        }
      ]
    },
    {
      "cell_type": "code",
      "source": [
        "print( \"\\t텝키 명령 \\t연습입니다\")"
      ],
      "metadata": {
        "colab": {
          "base_uri": "https://localhost:8080/"
        },
        "id": "wZiKP79AlVcx",
        "outputId": "434b7c34-83ab-4355-d738-82c5c8d09a90"
      },
      "execution_count": 17,
      "outputs": [
        {
          "output_type": "stream",
          "name": "stdout",
          "text": [
            "\t텝키 명령 \t연습입니다\n"
          ]
        }
      ]
    },
    {
      "cell_type": "code",
      "source": [
        "print(\"따옴표 글자가 \\\"강조\\\"되는 효과1\")\n",
        "print(\"따옴표 글자가 \\'강조\\'되는 효과2\")\n",
        "print(\"역슬래시 3개를 출력하려면 \\\\\\\\\\\\ 6개\")\n",
        "print(r\"\\n \\t \\\" \\\\ \\' @를 그대로 출력\")"
      ],
      "metadata": {
        "colab": {
          "base_uri": "https://localhost:8080/"
        },
        "id": "3M_CofHxlfoZ",
        "outputId": "e7fe54aa-7f73-49a9-cadd-1ef95a03d77c"
      },
      "execution_count": 23,
      "outputs": [
        {
          "output_type": "stream",
          "name": "stdout",
          "text": [
            "따옴표 글자가 \"강조\"되는 효과1\n",
            "따옴표 글자가 '강조'되는 효과2\n",
            "역슬래시 3개를 출력하려면 \\\\\\ 6개\n",
            "\\n \\t \\\" \\\\ \\' @를 그대로 출력\n"
          ]
        }
      ]
    },
    {
      "cell_type": "markdown",
      "source": [
        "#### 관계 연산자"
      ],
      "metadata": {
        "id": "g8koJZjsuqv6"
      }
    },
    {
      "cell_type": "code",
      "source": [
        "a,b= 10,20\n",
        "print(a==b, a!=b,a>=b, a<=b,a>b, a<b)"
      ],
      "metadata": {
        "colab": {
          "base_uri": "https://localhost:8080/"
        },
        "id": "JWWR-mQputcR",
        "outputId": "1b757c48-7a6b-4ee0-f9f8-37c6a114b208"
      },
      "execution_count": 25,
      "outputs": [
        {
          "output_type": "stream",
          "name": "stdout",
          "text": [
            "False True False True False True\n"
          ]
        }
      ]
    },
    {
      "cell_type": "markdown",
      "source": [
        "#### 논리 연산자 and,or,not"
      ],
      "metadata": {
        "id": "fet09xQevDk5"
      }
    },
    {
      "cell_type": "code",
      "source": [
        "a=95\n",
        "print((a>100) and (a<200)) #100보다 크고 200보다작다, 100<a<200, 거짓\n",
        "print((a<100) or (a>200))# a<100, a>200 둘중에 하나\n",
        "print(not(a==200)) #a<=99, a>=101"
      ],
      "metadata": {
        "colab": {
          "base_uri": "https://localhost:8080/"
        },
        "id": "NblF-tDuvGkA",
        "outputId": "1ac5e8e4-6975-4aea-e88b-1fee6e0844a0"
      },
      "execution_count": 30,
      "outputs": [
        {
          "output_type": "stream",
          "name": "stdout",
          "text": [
            "False\n",
            "True\n",
            "True\n"
          ]
        }
      ]
    },
    {
      "cell_type": "code",
      "source": [
        "if(1):\n",
        "  print(\"참이면 실행되어 보임\") # if 옆에 1이상이면 글자가 보임\n",
        "\n",
        "if(0):\n",
        "  print(\"거짓이면 안보임\")"
      ],
      "metadata": {
        "colab": {
          "base_uri": "https://localhost:8080/"
        },
        "id": "4-aAngRmvV85",
        "outputId": "fafb2eb5-f936-4625-e090-919759ba4a28"
      },
      "execution_count": 35,
      "outputs": [
        {
          "output_type": "stream",
          "name": "stdout",
          "text": [
            "참이면 실행되어 보임\n"
          ]
        }
      ]
    },
    {
      "cell_type": "markdown",
      "source": [
        "#### 퀴즈2 // 몫 % 나머지 int(input(\"입력:\") 지폐 금액입력후 동전으로 교환시(500원,100원,50원,10원)\n",
        "money c500 c100 c50 c10  \n",
        "받은돈: ?원  \n",
        "500원: n개  \n",
        "100원: n개  \n",
        "50원: n개  \n",
        "10원: n개  \n",
        "나머지:?원  "
      ],
      "metadata": {
        "id": "_uNISutsxGGC"
      }
    },
    {
      "cell_type": "code",
      "source": [
        "money=(int(input(\"지폐 금액: \")))\n",
        "a=money\n",
        "print(type(a))\n",
        "print(\"500원은\",a/500,\"개\")\n",
        "print(\"100원은\",a/100,\"개\")\n",
        "print(\"50원은\",a/50,\"개\")\n",
        "print(\"10원은\",a/10,\"개\")\n",
        "\n",
        "nul=(int(input(\"총 넣은 금액: \")))\n",
        "b=nul\n",
        "print(b/)"
      ],
      "metadata": {
        "colab": {
          "base_uri": "https://localhost:8080/"
        },
        "id": "zXVfAwR_yW_S",
        "outputId": "df7bf24f-f627-415e-e92a-900f40a929b9"
      },
      "execution_count": 72,
      "outputs": [
        {
          "output_type": "stream",
          "name": "stdout",
          "text": [
            "지폐 금액: 156\n",
            "<class 'int'>\n",
            "500원은 0.312 개\n",
            "100원은 1.56 개\n",
            "50원은 3.12 개\n",
            "10원은 15.6 개\n",
            "총 넣은 금액: 85\n",
            "<class 'int'>\n"
          ]
        }
      ]
    },
    {
      "cell_type": "code",
      "source": [
        "money,c500,c100,c50,c10=0,0,0,0,0\n",
        "monry=int(input(\"동전으로 교환할돈은?: \"))\n",
        "print(\"입력받은돈은 %d원\" % money )\n",
        "c500 = money // 500 #몫\n",
        "money = c500\n",
        "c100 = money //100\n",
        "money %=100\n",
        "c50 = money //50\n",
        "money %=50\n",
        "c10 = money //10\n",
        "money %=10\n",
        "print(\"입력받은 돈은 : %d\" % temp)\n",
        "print(\"500원 동전 : %d\" % c500)\n",
        "print(\"100원 동전 : %d\" % c100)\n",
        "print(\"50원 동전 : %d\" % c50)\n",
        "print(\"10원 동전 : %d\" % c10)\n",
        "print(\"나머지 잔돈 : %d\" % money)"
      ],
      "metadata": {
        "colab": {
          "base_uri": "https://localhost:8080/",
          "height": 281
        },
        "id": "xwh0mKgI3lF7",
        "outputId": "3f6c491f-777e-4184-c0cc-520c5ba4fef4"
      },
      "execution_count": 78,
      "outputs": [
        {
          "output_type": "stream",
          "name": "stdout",
          "text": [
            "동전으로 교환할돈은?: 165\n",
            "입력받은돈은 0원\n"
          ]
        },
        {
          "output_type": "error",
          "ename": "NameError",
          "evalue": "ignored",
          "traceback": [
            "\u001b[0;31m---------------------------------------------------------------------------\u001b[0m",
            "\u001b[0;31mNameError\u001b[0m                                 Traceback (most recent call last)",
            "\u001b[0;32m<ipython-input-78-1e269b2f27ab>\u001b[0m in \u001b[0;36m<module>\u001b[0;34m\u001b[0m\n\u001b[1;32m     10\u001b[0m \u001b[0mc10\u001b[0m \u001b[0;34m=\u001b[0m \u001b[0mmoney\u001b[0m \u001b[0;34m//\u001b[0m\u001b[0;36m10\u001b[0m\u001b[0;34m\u001b[0m\u001b[0;34m\u001b[0m\u001b[0m\n\u001b[1;32m     11\u001b[0m \u001b[0mmoney\u001b[0m \u001b[0;34m%=\u001b[0m\u001b[0;36m10\u001b[0m\u001b[0;34m\u001b[0m\u001b[0;34m\u001b[0m\u001b[0m\n\u001b[0;32m---> 12\u001b[0;31m \u001b[0mprint\u001b[0m\u001b[0;34m(\u001b[0m\u001b[0;34m\"입력받은 돈은 : %d\"\u001b[0m \u001b[0;34m%\u001b[0m \u001b[0mtemp\u001b[0m\u001b[0;34m)\u001b[0m\u001b[0;34m\u001b[0m\u001b[0;34m\u001b[0m\u001b[0m\n\u001b[0m\u001b[1;32m     13\u001b[0m \u001b[0mprint\u001b[0m\u001b[0;34m(\u001b[0m\u001b[0;34m\"500원 동전 : %d\"\u001b[0m \u001b[0;34m%\u001b[0m \u001b[0mc500\u001b[0m\u001b[0;34m)\u001b[0m\u001b[0;34m\u001b[0m\u001b[0;34m\u001b[0m\u001b[0m\n\u001b[1;32m     14\u001b[0m \u001b[0mprint\u001b[0m\u001b[0;34m(\u001b[0m\u001b[0;34m\"100원 동전 : %d\"\u001b[0m \u001b[0;34m%\u001b[0m \u001b[0mc100\u001b[0m\u001b[0;34m)\u001b[0m\u001b[0;34m\u001b[0m\u001b[0;34m\u001b[0m\u001b[0m\n",
            "\u001b[0;31mNameError\u001b[0m: name 'temp' is not defined"
          ]
        }
      ]
    },
    {
      "cell_type": "markdown",
      "source": [
        "### 조건문\n"
      ],
      "metadata": {
        "id": "HsLAshmu6k_5"
      }
    },
    {
      "cell_type": "code",
      "source": [
        "a=50\n",
        "if(a<100):\n",
        "print(\"참:100보다 작음\")\n",
        "\n",
        "  else:\n",
        "  print(\"거짓:조건보다 크면\")\n",
        "\n",
        "  print(\"프로그램 끝\")\n"
      ],
      "metadata": {
        "colab": {
          "base_uri": "https://localhost:8080/",
          "height": 136
        },
        "id": "kSMtEO3Q6nhy",
        "outputId": "77cb2dae-bc7d-4b6c-bc2b-8c46101590b0"
      },
      "execution_count": 80,
      "outputs": [
        {
          "output_type": "error",
          "ename": "IndentationError",
          "evalue": "ignored",
          "traceback": [
            "\u001b[0;36m  File \u001b[0;32m\"<ipython-input-80-3a1d104807c8>\"\u001b[0;36m, line \u001b[0;32m3\u001b[0m\n\u001b[0;31m    print(\"참:100보다 작음\")\u001b[0m\n\u001b[0m    ^\u001b[0m\n\u001b[0;31mIndentationError\u001b[0m\u001b[0;31m:\u001b[0m expected an indented block\n"
          ]
        }
      ]
    },
    {
      "cell_type": "code",
      "source": [
        "# 홀짝구분\n",
        "\n",
        "a=int(input(\"숫자입력: \"))\n",
        "if(a%2)==():\n",
        "  print(\"짝수입니다\")\n",
        "else :\n",
        "    print(\"홀수입니다\")\n",
        "\n"
      ],
      "metadata": {
        "colab": {
          "base_uri": "https://localhost:8080/"
        },
        "id": "m2NAg2ih8QZK",
        "outputId": "0f474cf8-8249-459d-e201-22284d9c96d1"
      },
      "execution_count": 83,
      "outputs": [
        {
          "output_type": "stream",
          "name": "stdout",
          "text": [
            "숫자입력: 9\n",
            "홀수입니다\n"
          ]
        }
      ]
    },
    {
      "cell_type": "code",
      "source": [
        "a=int(input(\"숫자입력: \"))\n",
        "if(a>50):\n",
        "  if(a<100):\n",
        "    print(\"50<a<100\")\n",
        "else:\n",
        "      print(\"a>100\")\n",
        "     else:\n",
        "if(a>25):\n",
        "          print(\"25<a<50\")\n",
        "else:\n",
        "            print(\"a<25\")"
      ],
      "metadata": {
        "colab": {
          "base_uri": "https://localhost:8080/",
          "height": 136
        },
        "id": "LSM0dyYh9vXC",
        "outputId": "a27ae2e1-0ae7-4d14-acdf-f607d113cd08"
      },
      "execution_count": 85,
      "outputs": [
        {
          "output_type": "error",
          "ename": "SyntaxError",
          "evalue": "ignored",
          "traceback": [
            "\u001b[0;36m  File \u001b[0;32m\"<ipython-input-85-34bcbe1e3d0c>\"\u001b[0;36m, line \u001b[0;32m7\u001b[0m\n\u001b[0;31m    else:\u001b[0m\n\u001b[0m    ^\u001b[0m\n\u001b[0;31mSyntaxError\u001b[0m\u001b[0;31m:\u001b[0m invalid syntax\n"
          ]
        }
      ]
    },
    {
      "cell_type": "code",
      "source": [
        "fruit= ['사과', '망고', '샤인머스켓','바나나']\n",
        "fruit,append ('망고')\n",
        "if'망고' in fruit :\n",
        "  print(\"망고가있습니다\")\n",
        "  print(fruit)\n"
      ],
      "metadata": {
        "colab": {
          "base_uri": "https://localhost:8080/",
          "height": 245
        },
        "id": "Dpifp3oNAvKS",
        "outputId": "932c2631-70f4-4d59-d4d4-6cade9942631"
      },
      "execution_count": 88,
      "outputs": [
        {
          "output_type": "error",
          "ename": "NameError",
          "evalue": "ignored",
          "traceback": [
            "\u001b[0;31m---------------------------------------------------------------------------\u001b[0m",
            "\u001b[0;31mNameError\u001b[0m                                 Traceback (most recent call last)",
            "\u001b[0;32m<ipython-input-88-4b3addc995aa>\u001b[0m in \u001b[0;36m<module>\u001b[0;34m\u001b[0m\n\u001b[1;32m      1\u001b[0m \u001b[0mfruit\u001b[0m\u001b[0;34m=\u001b[0m \u001b[0;34m[\u001b[0m\u001b[0;34m'사과'\u001b[0m\u001b[0;34m,\u001b[0m \u001b[0;34m'망고'\u001b[0m\u001b[0;34m,\u001b[0m \u001b[0;34m'샤인머스켓'\u001b[0m\u001b[0;34m,\u001b[0m\u001b[0;34m'바나나'\u001b[0m\u001b[0;34m]\u001b[0m\u001b[0;34m\u001b[0m\u001b[0;34m\u001b[0m\u001b[0m\n\u001b[0;32m----> 2\u001b[0;31m \u001b[0mfruit\u001b[0m\u001b[0;34m,\u001b[0m\u001b[0mappend\u001b[0m\u001b[0;34m(\u001b[0m\u001b[0;34m'망고'\u001b[0m\u001b[0;34m)\u001b[0m\u001b[0;34m\u001b[0m\u001b[0;34m\u001b[0m\u001b[0m\n\u001b[0m\u001b[1;32m      3\u001b[0m \u001b[0;32mif\u001b[0m\u001b[0;34m'망고'\u001b[0m \u001b[0;32min\u001b[0m \u001b[0mfruit\u001b[0m \u001b[0;34m:\u001b[0m\u001b[0;34m\u001b[0m\u001b[0;34m\u001b[0m\u001b[0m\n\u001b[1;32m      4\u001b[0m   \u001b[0mprint\u001b[0m\u001b[0;34m(\u001b[0m\u001b[0;34m\"망고가있습니다\"\u001b[0m\u001b[0;34m)\u001b[0m\u001b[0;34m\u001b[0m\u001b[0;34m\u001b[0m\u001b[0m\n\u001b[1;32m      5\u001b[0m   \u001b[0mprint\u001b[0m\u001b[0;34m(\u001b[0m\u001b[0mfruit\u001b[0m\u001b[0;34m)\u001b[0m\u001b[0;34m\u001b[0m\u001b[0;34m\u001b[0m\u001b[0m\n",
            "\u001b[0;31mNameError\u001b[0m: name 'append' is not defined"
          ]
        }
      ]
    },
    {
      "cell_type": "code",
      "source": [
        "for i in range(0,3,1): #시작값, 끝값+1, 증가값\n",
        " print(\"%d 안녕하세요\"% i)\n",
        "print(\"환영합니다^^\")"
      ],
      "metadata": {
        "colab": {
          "base_uri": "https://localhost:8080/"
        },
        "id": "ujeOIjmVBApy",
        "outputId": "5c77d8aa-f2fc-4283-8315-7c2fdf5f6e53"
      },
      "execution_count": 89,
      "outputs": [
        {
          "output_type": "stream",
          "name": "stdout",
          "text": [
            "0 안녕하세요\n",
            "1 안녕하세요\n",
            "2 안녕하세요\n",
            "환영합니다^^\n"
          ]
        }
      ]
    },
    {
      "cell_type": "code",
      "source": [
        "import random\n",
        "number=[]\n",
        "for i in range(0,6):\n",
        "  num.append(random.randrange(1,46))\n",
        "  print(\"생성리스트\",num) "
      ],
      "metadata": {
        "colab": {
          "base_uri": "https://localhost:8080/",
          "height": 227
        },
        "id": "NIiTPDJxCdkK",
        "outputId": "00ab5392-fdb1-4647-9666-660006438f33"
      },
      "execution_count": 90,
      "outputs": [
        {
          "output_type": "error",
          "ename": "NameError",
          "evalue": "ignored",
          "traceback": [
            "\u001b[0;31m---------------------------------------------------------------------------\u001b[0m",
            "\u001b[0;31mNameError\u001b[0m                                 Traceback (most recent call last)",
            "\u001b[0;32m<ipython-input-90-13aae38f8a45>\u001b[0m in \u001b[0;36m<module>\u001b[0;34m\u001b[0m\n\u001b[1;32m      2\u001b[0m \u001b[0mnumber\u001b[0m\u001b[0;34m=\u001b[0m\u001b[0;34m[\u001b[0m\u001b[0;34m]\u001b[0m\u001b[0;34m\u001b[0m\u001b[0;34m\u001b[0m\u001b[0m\n\u001b[1;32m      3\u001b[0m \u001b[0;32mfor\u001b[0m \u001b[0mi\u001b[0m \u001b[0;32min\u001b[0m \u001b[0mrange\u001b[0m\u001b[0;34m(\u001b[0m\u001b[0;36m0\u001b[0m\u001b[0;34m,\u001b[0m\u001b[0;36m6\u001b[0m\u001b[0;34m)\u001b[0m\u001b[0;34m:\u001b[0m\u001b[0;34m\u001b[0m\u001b[0;34m\u001b[0m\u001b[0m\n\u001b[0;32m----> 4\u001b[0;31m   \u001b[0mnum\u001b[0m\u001b[0;34m.\u001b[0m\u001b[0mappend\u001b[0m\u001b[0;34m(\u001b[0m\u001b[0mrandom\u001b[0m\u001b[0;34m.\u001b[0m\u001b[0mrandrange\u001b[0m\u001b[0;34m(\u001b[0m\u001b[0;36m1\u001b[0m\u001b[0;34m,\u001b[0m\u001b[0;36m46\u001b[0m\u001b[0;34m)\u001b[0m\u001b[0;34m)\u001b[0m\u001b[0;34m\u001b[0m\u001b[0;34m\u001b[0m\u001b[0m\n\u001b[0m\u001b[1;32m      5\u001b[0m   \u001b[0mprint\u001b[0m\u001b[0;34m(\u001b[0m\u001b[0;34m\"생성리스트\"\u001b[0m\u001b[0;34m,\u001b[0m\u001b[0mnum\u001b[0m\u001b[0;34m)\u001b[0m\u001b[0;34m\u001b[0m\u001b[0;34m\u001b[0m\u001b[0m\n",
            "\u001b[0;31mNameError\u001b[0m: name 'num' is not defined"
          ]
        }
      ]
    },
    {
      "cell_type": "code",
      "source": [
        "for i in range(1,9,1):\n",
        "  print(\"%d\" % i, end='\\t')\n",
        "  print(\"\\n\")\n",
        "  for j in range(1,9,1):\n",
        "   print(\"%d\" % j, end='\\t')\n"
      ],
      "metadata": {
        "colab": {
          "base_uri": "https://localhost:8080/"
        },
        "id": "bHO46slDD1Vq",
        "outputId": "13fc35a5-c248-4013-c141-59347af0bcac"
      },
      "execution_count": 91,
      "outputs": [
        {
          "output_type": "stream",
          "name": "stdout",
          "text": [
            "1\t\n",
            "\n",
            "1\t2\t3\t4\t5\t6\t7\t8\t2\t\n",
            "\n",
            "1\t2\t3\t4\t5\t6\t7\t8\t3\t\n",
            "\n",
            "1\t2\t3\t4\t5\t6\t7\t8\t4\t\n",
            "\n",
            "1\t2\t3\t4\t5\t6\t7\t8\t5\t\n",
            "\n",
            "1\t2\t3\t4\t5\t6\t7\t8\t6\t\n",
            "\n",
            "1\t2\t3\t4\t5\t6\t7\t8\t7\t\n",
            "\n",
            "1\t2\t3\t4\t5\t6\t7\t8\t8\t\n",
            "\n",
            "1\t2\t3\t4\t5\t6\t7\t8\t"
          ]
        }
      ]
    },
    {
      "cell_type": "code",
      "source": [
        "sum=0\n",
        "for i in range(1,11,1):\n",
        " sum = sum+i\n",
        "print(\"1부터 10까지의 합: %d\" % sum)"
      ],
      "metadata": {
        "colab": {
          "base_uri": "https://localhost:8080/"
        },
        "id": "WCI2kmN9EfST",
        "outputId": "8bdcee1d-dd9c-45c1-fac6-d36ccc767c3b"
      },
      "execution_count": 94,
      "outputs": [
        {
          "output_type": "stream",
          "name": "stdout",
          "text": [
            "1부터 10까지의 합: 55\n"
          ]
        }
      ]
    },
    {
      "cell_type": "code",
      "source": [
        "sum,num=0,0\n",
        "num = int(input(\"숫자입력: \"))\n",
        "for i in range(1,num+1,1):\n",
        " sum = sum+i\n",
        "print(\"1~n까지의 합: %d\" % sum)\n"
      ],
      "metadata": {
        "colab": {
          "base_uri": "https://localhost:8080/"
        },
        "id": "rYfiraKWFPuj",
        "outputId": "ea608d37-e7c9-4aab-af06-876892e35efb"
      },
      "execution_count": 99,
      "outputs": [
        {
          "output_type": "stream",
          "name": "stdout",
          "text": [
            "숫자입력: 165\n",
            "1~n까지의 합: 13695\n"
          ]
        }
      ]
    },
    {
      "cell_type": "code",
      "source": [
        "i,j=2,2\n",
        "for i in range(1,10,1):\n",
        "  print(\"%d x %d = %2d\" % (j,i,i*j))\n"
      ],
      "metadata": {
        "colab": {
          "base_uri": "https://localhost:8080/"
        },
        "id": "ZhFfe-kFFb7D",
        "outputId": "995e3f16-6dee-4b34-f9c0-e8468a6c30b4"
      },
      "execution_count": 108,
      "outputs": [
        {
          "output_type": "stream",
          "name": "stdout",
          "text": [
            "2 x 1 =  2\n",
            "2 x 2 =  4\n",
            "2 x 3 =  6\n",
            "2 x 4 =  8\n",
            "2 x 5 = 10\n",
            "2 x 6 = 12\n",
            "2 x 7 = 14\n",
            "2 x 8 = 16\n",
            "2 x 9 = 18\n"
          ]
        }
      ]
    },
    {
      "cell_type": "code",
      "source": [
        "i,j,k=0,0,0\n",
        "for i in range(2,10,1):\n",
        "  for j in range(1,10,1):\n",
        "    print(\"%d * %d = %2d\\n\" % (i,j,i*j))\n",
        "    print(\"\\n\")\n"
      ],
      "metadata": {
        "colab": {
          "base_uri": "https://localhost:8080/"
        },
        "id": "n1-LiNfpHAli",
        "outputId": "082c889e-970e-4e49-b242-75a95941d547"
      },
      "execution_count": 105,
      "outputs": [
        {
          "output_type": "stream",
          "name": "stdout",
          "text": [
            "2 * 1 =  2\n",
            "\n",
            "\n",
            "\n",
            "2 * 2 =  4\n",
            "\n",
            "\n",
            "\n",
            "2 * 3 =  6\n",
            "\n",
            "\n",
            "\n",
            "2 * 4 =  8\n",
            "\n",
            "\n",
            "\n",
            "2 * 5 = 10\n",
            "\n",
            "\n",
            "\n",
            "2 * 6 = 12\n",
            "\n",
            "\n",
            "\n",
            "2 * 7 = 14\n",
            "\n",
            "\n",
            "\n",
            "2 * 8 = 16\n",
            "\n",
            "\n",
            "\n",
            "2 * 9 = 18\n",
            "\n",
            "\n",
            "\n",
            "3 * 1 =  3\n",
            "\n",
            "\n",
            "\n",
            "3 * 2 =  6\n",
            "\n",
            "\n",
            "\n",
            "3 * 3 =  9\n",
            "\n",
            "\n",
            "\n",
            "3 * 4 = 12\n",
            "\n",
            "\n",
            "\n",
            "3 * 5 = 15\n",
            "\n",
            "\n",
            "\n",
            "3 * 6 = 18\n",
            "\n",
            "\n",
            "\n",
            "3 * 7 = 21\n",
            "\n",
            "\n",
            "\n",
            "3 * 8 = 24\n",
            "\n",
            "\n",
            "\n",
            "3 * 9 = 27\n",
            "\n",
            "\n",
            "\n",
            "4 * 1 =  4\n",
            "\n",
            "\n",
            "\n",
            "4 * 2 =  8\n",
            "\n",
            "\n",
            "\n",
            "4 * 3 = 12\n",
            "\n",
            "\n",
            "\n",
            "4 * 4 = 16\n",
            "\n",
            "\n",
            "\n",
            "4 * 5 = 20\n",
            "\n",
            "\n",
            "\n",
            "4 * 6 = 24\n",
            "\n",
            "\n",
            "\n",
            "4 * 7 = 28\n",
            "\n",
            "\n",
            "\n",
            "4 * 8 = 32\n",
            "\n",
            "\n",
            "\n",
            "4 * 9 = 36\n",
            "\n",
            "\n",
            "\n",
            "5 * 1 =  5\n",
            "\n",
            "\n",
            "\n",
            "5 * 2 = 10\n",
            "\n",
            "\n",
            "\n",
            "5 * 3 = 15\n",
            "\n",
            "\n",
            "\n",
            "5 * 4 = 20\n",
            "\n",
            "\n",
            "\n",
            "5 * 5 = 25\n",
            "\n",
            "\n",
            "\n",
            "5 * 6 = 30\n",
            "\n",
            "\n",
            "\n",
            "5 * 7 = 35\n",
            "\n",
            "\n",
            "\n",
            "5 * 8 = 40\n",
            "\n",
            "\n",
            "\n",
            "5 * 9 = 45\n",
            "\n",
            "\n",
            "\n",
            "6 * 1 =  6\n",
            "\n",
            "\n",
            "\n",
            "6 * 2 = 12\n",
            "\n",
            "\n",
            "\n",
            "6 * 3 = 18\n",
            "\n",
            "\n",
            "\n",
            "6 * 4 = 24\n",
            "\n",
            "\n",
            "\n",
            "6 * 5 = 30\n",
            "\n",
            "\n",
            "\n",
            "6 * 6 = 36\n",
            "\n",
            "\n",
            "\n",
            "6 * 7 = 42\n",
            "\n",
            "\n",
            "\n",
            "6 * 8 = 48\n",
            "\n",
            "\n",
            "\n",
            "6 * 9 = 54\n",
            "\n",
            "\n",
            "\n",
            "7 * 1 =  7\n",
            "\n",
            "\n",
            "\n",
            "7 * 2 = 14\n",
            "\n",
            "\n",
            "\n",
            "7 * 3 = 21\n",
            "\n",
            "\n",
            "\n",
            "7 * 4 = 28\n",
            "\n",
            "\n",
            "\n",
            "7 * 5 = 35\n",
            "\n",
            "\n",
            "\n",
            "7 * 6 = 42\n",
            "\n",
            "\n",
            "\n",
            "7 * 7 = 49\n",
            "\n",
            "\n",
            "\n",
            "7 * 8 = 56\n",
            "\n",
            "\n",
            "\n",
            "7 * 9 = 63\n",
            "\n",
            "\n",
            "\n",
            "8 * 1 =  8\n",
            "\n",
            "\n",
            "\n",
            "8 * 2 = 16\n",
            "\n",
            "\n",
            "\n",
            "8 * 3 = 24\n",
            "\n",
            "\n",
            "\n",
            "8 * 4 = 32\n",
            "\n",
            "\n",
            "\n",
            "8 * 5 = 40\n",
            "\n",
            "\n",
            "\n",
            "8 * 6 = 48\n",
            "\n",
            "\n",
            "\n",
            "8 * 7 = 56\n",
            "\n",
            "\n",
            "\n",
            "8 * 8 = 64\n",
            "\n",
            "\n",
            "\n",
            "8 * 9 = 72\n",
            "\n",
            "\n",
            "\n",
            "9 * 1 =  9\n",
            "\n",
            "\n",
            "\n",
            "9 * 2 = 18\n",
            "\n",
            "\n",
            "\n",
            "9 * 3 = 27\n",
            "\n",
            "\n",
            "\n",
            "9 * 4 = 36\n",
            "\n",
            "\n",
            "\n",
            "9 * 5 = 45\n",
            "\n",
            "\n",
            "\n",
            "9 * 6 = 54\n",
            "\n",
            "\n",
            "\n",
            "9 * 7 = 63\n",
            "\n",
            "\n",
            "\n",
            "9 * 8 = 72\n",
            "\n",
            "\n",
            "\n",
            "9 * 9 = 81\n",
            "\n",
            "\n",
            "\n"
          ]
        }
      ]
    },
    {
      "cell_type": "markdown",
      "source": [
        "### 퀴즈3 구구단을 만들고 2,3,4,5 \n",
        "### 줄바꿔서6,7,8,9를 출력하세요"
      ],
      "metadata": {
        "id": "YMJxSx7RI387"
      }
    },
    {
      "cell_type": "code",
      "source": [
        "i,j=2,2\n",
        "for i in range(1,10,1):\n",
        "  print(\"%d x %d = %2d\" % (j,i,i*j))\n",
        "print(\"\\n\")\n",
        "\n",
        "i,j=3,3\n",
        "for i in range(1,10,1):\n",
        "  print(\"%d x %d = %2d\" % (j,i,i*j))\n",
        "print(\"\\n\")\n",
        "\n",
        "i,j=4,4\n",
        "for i in range(1,10,1):\n",
        "  print(\"%d x %d = %2d\" % (j,i,i*j))\n",
        "print(\"\\n\")\n",
        "\n",
        "i,j=5,4\n",
        "for i in range(1,10,1):\n",
        "  print(\"%d x %d = %2d\" % (j,i,i*j))\n",
        "print(\"\\n\")\n",
        "\n",
        "i,j=6,5\n",
        "for i in range(1,10,1):\n",
        "  print(\"%d x %d = %2d\" % (j,i,i*j))\n",
        "print(\"\\n\")\n",
        "\n",
        "i,j=7,6\n",
        "for i in range(1,10,1):\n",
        "  print(\"%d x %d = %2d\" % (j,i,i*j))\n",
        "print(\"\\n\")\n",
        "\n",
        "i,j=8,7\n",
        "for i in range(1,10,1):\n",
        "  print(\"%d x %d = %2d\" % (j,i,i*j))\n",
        "print(\"\\n\")\n",
        "\n",
        "i,j=9,8\n",
        "for i in range(1,10,1):\n",
        "  print(\"%d x %d = %2d\" % (j,i,i*j))\n",
        "print(\"\\n\")\n",
        "\n",
        "i,j=9,9\n",
        "for i in range(1,10,1):\n",
        "  print(\"%d x %d = %2d\" % (j,i,i*j))\n",
        "print(\"\\n\")"
      ],
      "metadata": {
        "colab": {
          "base_uri": "https://localhost:8080/"
        },
        "id": "rYMj7dWRJJX6",
        "outputId": "c374a9ea-f3a7-49d2-9783-c06d70ba10d9"
      },
      "execution_count": 115,
      "outputs": [
        {
          "output_type": "stream",
          "name": "stdout",
          "text": [
            "2 x 1 =  2\n",
            "2 x 2 =  4\n",
            "2 x 3 =  6\n",
            "2 x 4 =  8\n",
            "2 x 5 = 10\n",
            "2 x 6 = 12\n",
            "2 x 7 = 14\n",
            "2 x 8 = 16\n",
            "2 x 9 = 18\n",
            "\n",
            "\n",
            "3 x 1 =  3\n",
            "3 x 2 =  6\n",
            "3 x 3 =  9\n",
            "3 x 4 = 12\n",
            "3 x 5 = 15\n",
            "3 x 6 = 18\n",
            "3 x 7 = 21\n",
            "3 x 8 = 24\n",
            "3 x 9 = 27\n",
            "\n",
            "\n",
            "4 x 1 =  4\n",
            "4 x 2 =  8\n",
            "4 x 3 = 12\n",
            "4 x 4 = 16\n",
            "4 x 5 = 20\n",
            "4 x 6 = 24\n",
            "4 x 7 = 28\n",
            "4 x 8 = 32\n",
            "4 x 9 = 36\n",
            "\n",
            "\n",
            "4 x 1 =  4\n",
            "4 x 2 =  8\n",
            "4 x 3 = 12\n",
            "4 x 4 = 16\n",
            "4 x 5 = 20\n",
            "4 x 6 = 24\n",
            "4 x 7 = 28\n",
            "4 x 8 = 32\n",
            "4 x 9 = 36\n",
            "\n",
            "\n",
            "5 x 1 =  5\n",
            "5 x 2 = 10\n",
            "5 x 3 = 15\n",
            "5 x 4 = 20\n",
            "5 x 5 = 25\n",
            "5 x 6 = 30\n",
            "5 x 7 = 35\n",
            "5 x 8 = 40\n",
            "5 x 9 = 45\n",
            "\n",
            "\n",
            "6 x 1 =  6\n",
            "6 x 2 = 12\n",
            "6 x 3 = 18\n",
            "6 x 4 = 24\n",
            "6 x 5 = 30\n",
            "6 x 6 = 36\n",
            "6 x 7 = 42\n",
            "6 x 8 = 48\n",
            "6 x 9 = 54\n",
            "\n",
            "\n",
            "7 x 1 =  7\n",
            "7 x 2 = 14\n",
            "7 x 3 = 21\n",
            "7 x 4 = 28\n",
            "7 x 5 = 35\n",
            "7 x 6 = 42\n",
            "7 x 7 = 49\n",
            "7 x 8 = 56\n",
            "7 x 9 = 63\n",
            "\n",
            "\n",
            "8 x 1 =  8\n",
            "8 x 2 = 16\n",
            "8 x 3 = 24\n",
            "8 x 4 = 32\n",
            "8 x 5 = 40\n",
            "8 x 6 = 48\n",
            "8 x 7 = 56\n",
            "8 x 8 = 64\n",
            "8 x 9 = 72\n",
            "\n",
            "\n",
            "9 x 1 =  9\n",
            "9 x 2 = 18\n",
            "9 x 3 = 27\n",
            "9 x 4 = 36\n",
            "9 x 5 = 45\n",
            "9 x 6 = 54\n",
            "9 x 7 = 63\n",
            "9 x 8 = 72\n",
            "9 x 9 = 81\n",
            "\n",
            "\n"
          ]
        }
      ]
    },
    {
      "cell_type": "code",
      "source": [],
      "metadata": {
        "id": "bgozExLWMvZq"
      },
      "execution_count": null,
      "outputs": []
    }
  ]
}